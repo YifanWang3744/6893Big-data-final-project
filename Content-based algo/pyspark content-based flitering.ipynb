{
 "cells": [
  {
   "cell_type": "markdown",
   "id": "a2970903",
   "metadata": {},
   "source": [
    "# Using Pyspark to Predict General Anime Score"
   ]
  },
  {
   "cell_type": "code",
   "execution_count": 1,
   "id": "e889b42b",
   "metadata": {},
   "outputs": [
    {
     "ename": "RuntimeError",
     "evalue": "Java gateway process exited before sending its port number",
     "output_type": "error",
     "traceback": [
      "\u001b[1;31m---------------------------------------------------------------------------\u001b[0m",
      "\u001b[1;31mRuntimeError\u001b[0m                              Traceback (most recent call last)",
      "\u001b[1;32m<ipython-input-1-4ea5f93cd8fc>\u001b[0m in \u001b[0;36m<module>\u001b[1;34m\u001b[0m\n\u001b[0;32m     14\u001b[0m \u001b[1;32mfrom\u001b[0m \u001b[0mpyspark\u001b[0m\u001b[1;33m.\u001b[0m\u001b[0msql\u001b[0m \u001b[1;32mimport\u001b[0m \u001b[0mSparkSession\u001b[0m\u001b[1;33m\u001b[0m\u001b[1;33m\u001b[0m\u001b[0m\n\u001b[0;32m     15\u001b[0m \u001b[1;33m\u001b[0m\u001b[0m\n\u001b[1;32m---> 16\u001b[1;33m \u001b[0mspark\u001b[0m \u001b[1;33m=\u001b[0m \u001b[0mSparkSession\u001b[0m\u001b[1;33m.\u001b[0m\u001b[0mbuilder\u001b[0m\u001b[1;33m.\u001b[0m\u001b[0mappName\u001b[0m\u001b[1;33m(\u001b[0m\u001b[1;34m'anime-data'\u001b[0m\u001b[1;33m)\u001b[0m\u001b[1;33m.\u001b[0m\u001b[0mgetOrCreate\u001b[0m\u001b[1;33m(\u001b[0m\u001b[1;33m)\u001b[0m\u001b[1;33m\u001b[0m\u001b[1;33m\u001b[0m\u001b[0m\n\u001b[0m",
      "\u001b[1;32m~\\anaconda3\\lib\\site-packages\\pyspark\\sql\\session.py\u001b[0m in \u001b[0;36mgetOrCreate\u001b[1;34m(self)\u001b[0m\n\u001b[0;32m    226\u001b[0m                             \u001b[0msparkConf\u001b[0m\u001b[1;33m.\u001b[0m\u001b[0mset\u001b[0m\u001b[1;33m(\u001b[0m\u001b[0mkey\u001b[0m\u001b[1;33m,\u001b[0m \u001b[0mvalue\u001b[0m\u001b[1;33m)\u001b[0m\u001b[1;33m\u001b[0m\u001b[1;33m\u001b[0m\u001b[0m\n\u001b[0;32m    227\u001b[0m                         \u001b[1;31m# This SparkContext may be an existing one.\u001b[0m\u001b[1;33m\u001b[0m\u001b[1;33m\u001b[0m\u001b[1;33m\u001b[0m\u001b[0m\n\u001b[1;32m--> 228\u001b[1;33m                         \u001b[0msc\u001b[0m \u001b[1;33m=\u001b[0m \u001b[0mSparkContext\u001b[0m\u001b[1;33m.\u001b[0m\u001b[0mgetOrCreate\u001b[0m\u001b[1;33m(\u001b[0m\u001b[0msparkConf\u001b[0m\u001b[1;33m)\u001b[0m\u001b[1;33m\u001b[0m\u001b[1;33m\u001b[0m\u001b[0m\n\u001b[0m\u001b[0;32m    229\u001b[0m                     \u001b[1;31m# Do not update `SparkConf` for existing `SparkContext`, as it's shared\u001b[0m\u001b[1;33m\u001b[0m\u001b[1;33m\u001b[0m\u001b[1;33m\u001b[0m\u001b[0m\n\u001b[0;32m    230\u001b[0m                     \u001b[1;31m# by all sessions.\u001b[0m\u001b[1;33m\u001b[0m\u001b[1;33m\u001b[0m\u001b[1;33m\u001b[0m\u001b[0m\n",
      "\u001b[1;32m~\\anaconda3\\lib\\site-packages\\pyspark\\context.py\u001b[0m in \u001b[0;36mgetOrCreate\u001b[1;34m(cls, conf)\u001b[0m\n\u001b[0;32m    390\u001b[0m         \u001b[1;32mwith\u001b[0m \u001b[0mSparkContext\u001b[0m\u001b[1;33m.\u001b[0m\u001b[0m_lock\u001b[0m\u001b[1;33m:\u001b[0m\u001b[1;33m\u001b[0m\u001b[1;33m\u001b[0m\u001b[0m\n\u001b[0;32m    391\u001b[0m             \u001b[1;32mif\u001b[0m \u001b[0mSparkContext\u001b[0m\u001b[1;33m.\u001b[0m\u001b[0m_active_spark_context\u001b[0m \u001b[1;32mis\u001b[0m \u001b[1;32mNone\u001b[0m\u001b[1;33m:\u001b[0m\u001b[1;33m\u001b[0m\u001b[1;33m\u001b[0m\u001b[0m\n\u001b[1;32m--> 392\u001b[1;33m                 \u001b[0mSparkContext\u001b[0m\u001b[1;33m(\u001b[0m\u001b[0mconf\u001b[0m\u001b[1;33m=\u001b[0m\u001b[0mconf\u001b[0m \u001b[1;32mor\u001b[0m \u001b[0mSparkConf\u001b[0m\u001b[1;33m(\u001b[0m\u001b[1;33m)\u001b[0m\u001b[1;33m)\u001b[0m\u001b[1;33m\u001b[0m\u001b[1;33m\u001b[0m\u001b[0m\n\u001b[0m\u001b[0;32m    393\u001b[0m             \u001b[1;32mreturn\u001b[0m \u001b[0mSparkContext\u001b[0m\u001b[1;33m.\u001b[0m\u001b[0m_active_spark_context\u001b[0m\u001b[1;33m\u001b[0m\u001b[1;33m\u001b[0m\u001b[0m\n\u001b[0;32m    394\u001b[0m \u001b[1;33m\u001b[0m\u001b[0m\n",
      "\u001b[1;32m~\\anaconda3\\lib\\site-packages\\pyspark\\context.py\u001b[0m in \u001b[0;36m__init__\u001b[1;34m(self, master, appName, sparkHome, pyFiles, environment, batchSize, serializer, conf, gateway, jsc, profiler_cls)\u001b[0m\n\u001b[0;32m    142\u001b[0m                 \" is not allowed as it is a security risk.\")\n\u001b[0;32m    143\u001b[0m \u001b[1;33m\u001b[0m\u001b[0m\n\u001b[1;32m--> 144\u001b[1;33m         \u001b[0mSparkContext\u001b[0m\u001b[1;33m.\u001b[0m\u001b[0m_ensure_initialized\u001b[0m\u001b[1;33m(\u001b[0m\u001b[0mself\u001b[0m\u001b[1;33m,\u001b[0m \u001b[0mgateway\u001b[0m\u001b[1;33m=\u001b[0m\u001b[0mgateway\u001b[0m\u001b[1;33m,\u001b[0m \u001b[0mconf\u001b[0m\u001b[1;33m=\u001b[0m\u001b[0mconf\u001b[0m\u001b[1;33m)\u001b[0m\u001b[1;33m\u001b[0m\u001b[1;33m\u001b[0m\u001b[0m\n\u001b[0m\u001b[0;32m    145\u001b[0m         \u001b[1;32mtry\u001b[0m\u001b[1;33m:\u001b[0m\u001b[1;33m\u001b[0m\u001b[1;33m\u001b[0m\u001b[0m\n\u001b[0;32m    146\u001b[0m             self._do_init(master, appName, sparkHome, pyFiles, environment, batchSize, serializer,\n",
      "\u001b[1;32m~\\anaconda3\\lib\\site-packages\\pyspark\\context.py\u001b[0m in \u001b[0;36m_ensure_initialized\u001b[1;34m(cls, instance, gateway, conf)\u001b[0m\n\u001b[0;32m    337\u001b[0m         \u001b[1;32mwith\u001b[0m \u001b[0mSparkContext\u001b[0m\u001b[1;33m.\u001b[0m\u001b[0m_lock\u001b[0m\u001b[1;33m:\u001b[0m\u001b[1;33m\u001b[0m\u001b[1;33m\u001b[0m\u001b[0m\n\u001b[0;32m    338\u001b[0m             \u001b[1;32mif\u001b[0m \u001b[1;32mnot\u001b[0m \u001b[0mSparkContext\u001b[0m\u001b[1;33m.\u001b[0m\u001b[0m_gateway\u001b[0m\u001b[1;33m:\u001b[0m\u001b[1;33m\u001b[0m\u001b[1;33m\u001b[0m\u001b[0m\n\u001b[1;32m--> 339\u001b[1;33m                 \u001b[0mSparkContext\u001b[0m\u001b[1;33m.\u001b[0m\u001b[0m_gateway\u001b[0m \u001b[1;33m=\u001b[0m \u001b[0mgateway\u001b[0m \u001b[1;32mor\u001b[0m \u001b[0mlaunch_gateway\u001b[0m\u001b[1;33m(\u001b[0m\u001b[0mconf\u001b[0m\u001b[1;33m)\u001b[0m\u001b[1;33m\u001b[0m\u001b[1;33m\u001b[0m\u001b[0m\n\u001b[0m\u001b[0;32m    340\u001b[0m                 \u001b[0mSparkContext\u001b[0m\u001b[1;33m.\u001b[0m\u001b[0m_jvm\u001b[0m \u001b[1;33m=\u001b[0m \u001b[0mSparkContext\u001b[0m\u001b[1;33m.\u001b[0m\u001b[0m_gateway\u001b[0m\u001b[1;33m.\u001b[0m\u001b[0mjvm\u001b[0m\u001b[1;33m\u001b[0m\u001b[1;33m\u001b[0m\u001b[0m\n\u001b[0;32m    341\u001b[0m \u001b[1;33m\u001b[0m\u001b[0m\n",
      "\u001b[1;32m~\\anaconda3\\lib\\site-packages\\pyspark\\java_gateway.py\u001b[0m in \u001b[0;36mlaunch_gateway\u001b[1;34m(conf, popen_kwargs)\u001b[0m\n\u001b[0;32m    106\u001b[0m \u001b[1;33m\u001b[0m\u001b[0m\n\u001b[0;32m    107\u001b[0m             \u001b[1;32mif\u001b[0m \u001b[1;32mnot\u001b[0m \u001b[0mos\u001b[0m\u001b[1;33m.\u001b[0m\u001b[0mpath\u001b[0m\u001b[1;33m.\u001b[0m\u001b[0misfile\u001b[0m\u001b[1;33m(\u001b[0m\u001b[0mconn_info_file\u001b[0m\u001b[1;33m)\u001b[0m\u001b[1;33m:\u001b[0m\u001b[1;33m\u001b[0m\u001b[1;33m\u001b[0m\u001b[0m\n\u001b[1;32m--> 108\u001b[1;33m                 \u001b[1;32mraise\u001b[0m \u001b[0mRuntimeError\u001b[0m\u001b[1;33m(\u001b[0m\u001b[1;34m\"Java gateway process exited before sending its port number\"\u001b[0m\u001b[1;33m)\u001b[0m\u001b[1;33m\u001b[0m\u001b[1;33m\u001b[0m\u001b[0m\n\u001b[0m\u001b[0;32m    109\u001b[0m \u001b[1;33m\u001b[0m\u001b[0m\n\u001b[0;32m    110\u001b[0m             \u001b[1;32mwith\u001b[0m \u001b[0mopen\u001b[0m\u001b[1;33m(\u001b[0m\u001b[0mconn_info_file\u001b[0m\u001b[1;33m,\u001b[0m \u001b[1;34m\"rb\"\u001b[0m\u001b[1;33m)\u001b[0m \u001b[1;32mas\u001b[0m \u001b[0minfo\u001b[0m\u001b[1;33m:\u001b[0m\u001b[1;33m\u001b[0m\u001b[1;33m\u001b[0m\u001b[0m\n",
      "\u001b[1;31mRuntimeError\u001b[0m: Java gateway process exited before sending its port number"
     ]
    }
   ],
   "source": [
    "from sklearn.preprocessing import MultiLabelBinarizer\n",
    "\n",
    "from pyspark.sql.types import *\n",
    "from pyspark.sql import Window\n",
    "from pyspark.sql import functions as f\n",
    "\n",
    "\n",
    "from pyspark.ml.feature import VectorAssembler\n",
    "from pyspark.ml.regression import LinearRegression\n",
    "from pyspark.ml import Pipeline\n",
    "from pyspark.ml.classification import LogisticRegression\n",
    "from pyspark.ml.evaluation import MulticlassClassificationEvaluator\n",
    "\n",
    "from pyspark.sql import SparkSession\n",
    "\n",
    "spark = SparkSession.builder.appName('anime-data').getOrCreate()"
   ]
  },
  {
   "cell_type": "code",
   "execution_count": 2,
   "id": "d2f389db",
   "metadata": {},
   "outputs": [],
   "source": [
    "anime_schema = StructType(fields=[StructField('MAL_ID', IntegerType()),\n",
    "                           StructField('name', StringType()),\n",
    "                            StructField('score', DoubleType()),\n",
    "                            StructField('genres', StringType()),\n",
    "                            StructField('synopsis', StringType())\n",
    "                           ])\n",
    "\n",
    "\n",
    "animelist_schema = StructType(fields=[StructField('user_id', IntegerType()),\n",
    "                           StructField('anime_id', IntegerType()),\n",
    "                            StructField('rating', IntegerType()),\n",
    "                            StructField('watching_status', IntegerType()),\n",
    "                            StructField('watched_episodes', IntegerType())\n",
    "                           ])"
   ]
  },
  {
   "cell_type": "code",
   "execution_count": 3,
   "id": "394d59e7",
   "metadata": {},
   "outputs": [],
   "source": [
    "anime = spark.read.csv('gs://big_data_6893_zw2781/archive/anime_with_synopsis.csv', \n",
    "              schema=anime_schema,\n",
    "              sep=',',\n",
    "              header=True)\n",
    "\n",
    "animelist = spark.read.csv('gs://big_data_6893_zw2781/archive/animelist.csv', \n",
    "              schema=animelist_schema,\n",
    "              sep=',',\n",
    "              header=True)"
   ]
  },
  {
   "cell_type": "markdown",
   "id": "dda1c135",
   "metadata": {},
   "source": [
    "# Show best anime based on score"
   ]
  },
  {
   "cell_type": "code",
   "execution_count": 4,
   "id": "22265847",
   "metadata": {},
   "outputs": [
    {
     "name": "stderr",
     "output_type": "stream",
     "text": [
      "[Stage 1:>                                                          (0 + 2) / 2]\r"
     ]
    },
    {
     "name": "stdout",
     "output_type": "stream",
     "text": [
      "+--------+--------------------+-----+--------------------+--------------------+\n",
      "|anime_id|                name|score|              genres|            synopsis|\n",
      "+--------+--------------------+-----+--------------------+--------------------+\n",
      "|    5114|Fullmetal Alchemi...| 9.19|Action, Military,...|\"\"\"In order for s...|\n",
      "|   40028|Shingeki no Kyoji...| 9.17|Action, Military,...|Gabi Braun and Fa...|\n",
      "|    9253|         Steins;Gate| 9.11|    Thriller, Sci-Fi|\"The self-proclai...|\n",
      "|   11061|Hunter x Hunter (...|  9.1|Action, Adventure...|Hunter x Hunter i...|\n",
      "|   28977|            Gintama°|  9.1|Action, Comedy, H...|Gintoki, Shinpach...|\n",
      "|   38524|Shingeki no Kyoji...|  9.1|Action, Drama, Fa...|\"Seeking to resto...|\n",
      "|    9969|            Gintama'| 9.08|Action, Sci-Fi, C...|fter a one-year h...|\n",
      "|     820|Ginga Eiyuu Densetsu| 9.07|Military, Sci-Fi,...|The 150-year-long...|\n",
      "|   15417| Gintama': Enchousen| 9.04|Action, Comedy, H...|hile Gintoki Saka...|\n",
      "|   28851|      Koe no Katachi|  9.0|Drama, School, Sh...|s a wild youth, e...|\n",
      "+--------+--------------------+-----+--------------------+--------------------+\n",
      "only showing top 10 rows\n",
      "\n"
     ]
    },
    {
     "name": "stderr",
     "output_type": "stream",
     "text": [
      "\r",
      "                                                                                \r"
     ]
    }
   ],
   "source": [
    "best_anime = anime\\\n",
    "            .filter('score is not null')\\\n",
    "            .withColumnRenamed('MAL_ID', 'anime_id')\\\n",
    "            .orderBy('score', ascending=False)\\\n",
    "            .cache()\n",
    "\n",
    "best_anime.show(10)"
   ]
  },
  {
   "cell_type": "code",
   "execution_count": 5,
   "id": "4d1a6ce3",
   "metadata": {},
   "outputs": [
    {
     "name": "stderr",
     "output_type": "stream",
     "text": [
      "                                                                                \r"
     ]
    },
    {
     "data": {
      "text/html": [
       "<div>\n",
       "<style scoped>\n",
       "    .dataframe tbody tr th:only-of-type {\n",
       "        vertical-align: middle;\n",
       "    }\n",
       "\n",
       "    .dataframe tbody tr th {\n",
       "        vertical-align: top;\n",
       "    }\n",
       "\n",
       "    .dataframe thead th {\n",
       "        text-align: right;\n",
       "    }\n",
       "</style>\n",
       "<table border=\"1\" class=\"dataframe\">\n",
       "  <thead>\n",
       "    <tr style=\"text-align: right;\">\n",
       "      <th></th>\n",
       "      <th>anime_id</th>\n",
       "      <th>name</th>\n",
       "      <th>score</th>\n",
       "      <th>genres</th>\n",
       "      <th>synopsis</th>\n",
       "    </tr>\n",
       "  </thead>\n",
       "  <tbody>\n",
       "    <tr>\n",
       "      <th>0</th>\n",
       "      <td>5114</td>\n",
       "      <td>Fullmetal Alchemist: Brotherhood</td>\n",
       "      <td>9.19</td>\n",
       "      <td>Action, Military, Adventure, Comedy, Drama, Ma...</td>\n",
       "      <td>\"\"\"In order for something to be obtained</td>\n",
       "    </tr>\n",
       "    <tr>\n",
       "      <th>1</th>\n",
       "      <td>40028</td>\n",
       "      <td>Shingeki no Kyojin: The Final Season</td>\n",
       "      <td>9.17</td>\n",
       "      <td>Action, Military, Mystery, Super Power, Drama,...</td>\n",
       "      <td>Gabi Braun and Falco Grice have been training ...</td>\n",
       "    </tr>\n",
       "    <tr>\n",
       "      <th>2</th>\n",
       "      <td>9253</td>\n",
       "      <td>Steins;Gate</td>\n",
       "      <td>9.11</td>\n",
       "      <td>Thriller, Sci-Fi</td>\n",
       "      <td>\"The self-proclaimed mad scientist Rintarou Ok...</td>\n",
       "    </tr>\n",
       "    <tr>\n",
       "      <th>3</th>\n",
       "      <td>11061</td>\n",
       "      <td>Hunter x Hunter (2011)</td>\n",
       "      <td>9.10</td>\n",
       "      <td>Action, Adventure, Fantasy, Shounen, Super Power</td>\n",
       "      <td>Hunter x Hunter is set in a world where Hunter...</td>\n",
       "    </tr>\n",
       "    <tr>\n",
       "      <th>4</th>\n",
       "      <td>28977</td>\n",
       "      <td>Gintama°</td>\n",
       "      <td>9.10</td>\n",
       "      <td>Action, Comedy, Historical, Parody, Samurai, S...</td>\n",
       "      <td>Gintoki, Shinpachi, and Kagura return as the f...</td>\n",
       "    </tr>\n",
       "    <tr>\n",
       "      <th>5</th>\n",
       "      <td>38524</td>\n",
       "      <td>Shingeki no Kyojin Season 3 Part 2</td>\n",
       "      <td>9.10</td>\n",
       "      <td>Action, Drama, Fantasy, Military, Mystery, Sho...</td>\n",
       "      <td>\"Seeking to restore humanity's diminishing hop...</td>\n",
       "    </tr>\n",
       "    <tr>\n",
       "      <th>6</th>\n",
       "      <td>9969</td>\n",
       "      <td>Gintama'</td>\n",
       "      <td>9.08</td>\n",
       "      <td>Action, Sci-Fi, Comedy, Historical, Parody, Sa...</td>\n",
       "      <td>fter a one-year hiatus, Shinpachi Shimura retu...</td>\n",
       "    </tr>\n",
       "    <tr>\n",
       "      <th>7</th>\n",
       "      <td>820</td>\n",
       "      <td>Ginga Eiyuu Densetsu</td>\n",
       "      <td>9.07</td>\n",
       "      <td>Military, Sci-Fi, Space, Drama</td>\n",
       "      <td>The 150-year-long stalemate between the two in...</td>\n",
       "    </tr>\n",
       "    <tr>\n",
       "      <th>8</th>\n",
       "      <td>15417</td>\n",
       "      <td>Gintama': Enchousen</td>\n",
       "      <td>9.04</td>\n",
       "      <td>Action, Comedy, Historical, Parody, Samurai, S...</td>\n",
       "      <td>hile Gintoki Sakata was away, the Yorozuya fou...</td>\n",
       "    </tr>\n",
       "    <tr>\n",
       "      <th>9</th>\n",
       "      <td>28851</td>\n",
       "      <td>Koe no Katachi</td>\n",
       "      <td>9.00</td>\n",
       "      <td>Drama, School, Shounen</td>\n",
       "      <td>s a wild youth, elementary school student Shou...</td>\n",
       "    </tr>\n",
       "  </tbody>\n",
       "</table>\n",
       "</div>"
      ],
      "text/plain": [
       "   anime_id                                  name  score  \\\n",
       "0      5114      Fullmetal Alchemist: Brotherhood   9.19   \n",
       "1     40028  Shingeki no Kyojin: The Final Season   9.17   \n",
       "2      9253                           Steins;Gate   9.11   \n",
       "3     11061                Hunter x Hunter (2011)   9.10   \n",
       "4     28977                              Gintama°   9.10   \n",
       "5     38524    Shingeki no Kyojin Season 3 Part 2   9.10   \n",
       "6      9969                              Gintama'   9.08   \n",
       "7       820                  Ginga Eiyuu Densetsu   9.07   \n",
       "8     15417                   Gintama': Enchousen   9.04   \n",
       "9     28851                        Koe no Katachi   9.00   \n",
       "\n",
       "                                              genres  \\\n",
       "0  Action, Military, Adventure, Comedy, Drama, Ma...   \n",
       "1  Action, Military, Mystery, Super Power, Drama,...   \n",
       "2                                   Thriller, Sci-Fi   \n",
       "3   Action, Adventure, Fantasy, Shounen, Super Power   \n",
       "4  Action, Comedy, Historical, Parody, Samurai, S...   \n",
       "5  Action, Drama, Fantasy, Military, Mystery, Sho...   \n",
       "6  Action, Sci-Fi, Comedy, Historical, Parody, Sa...   \n",
       "7                     Military, Sci-Fi, Space, Drama   \n",
       "8  Action, Comedy, Historical, Parody, Samurai, S...   \n",
       "9                             Drama, School, Shounen   \n",
       "\n",
       "                                            synopsis  \n",
       "0           \"\"\"In order for something to be obtained  \n",
       "1  Gabi Braun and Falco Grice have been training ...  \n",
       "2  \"The self-proclaimed mad scientist Rintarou Ok...  \n",
       "3  Hunter x Hunter is set in a world where Hunter...  \n",
       "4  Gintoki, Shinpachi, and Kagura return as the f...  \n",
       "5  \"Seeking to restore humanity's diminishing hop...  \n",
       "6  fter a one-year hiatus, Shinpachi Shimura retu...  \n",
       "7  The 150-year-long stalemate between the two in...  \n",
       "8  hile Gintoki Sakata was away, the Yorozuya fou...  \n",
       "9  s a wild youth, elementary school student Shou...  "
      ]
     },
     "execution_count": 5,
     "metadata": {},
     "output_type": "execute_result"
    }
   ],
   "source": [
    "best_anime_pandas = best_anime.toPandas()\n",
    "best_anime_pandas.head(10)"
   ]
  },
  {
   "cell_type": "markdown",
   "id": "b3926dc5",
   "metadata": {},
   "source": [
    "# Genre analysis"
   ]
  },
  {
   "cell_type": "code",
   "execution_count": 6,
   "id": "7679e2e7",
   "metadata": {},
   "outputs": [
    {
     "name": "stderr",
     "output_type": "stream",
     "text": [
      "21/11/30 19:22:09 WARN org.apache.spark.sql.execution.window.WindowExec: No Partition Defined for Window operation! Moving all data to a single partition, this can cause serious performance degradation.\n",
      "[Stage 8:==================================================>    (183 + 9) / 200]\r"
     ]
    },
    {
     "name": "stdout",
     "output_type": "stream",
     "text": [
      "+-------------+-----------+------------------+------------------+\n",
      "|        genre|genre_count|         avg_score|      pct_of_total|\n",
      "+-------------+-----------+------------------+------------------+\n",
      "|       Action|       3846| 6.762866748166266| 7.983559596462822|\n",
      "|       Comedy|       2884|  6.83221335573289| 5.986631793083406|\n",
      "|       Sci-Fi|       2019|6.6796624713958765| 4.191057416863869|\n",
      "|        Drama|       1799|  7.06344262295082|3.7343795408311538|\n",
      "|         Kids|       1584| 6.305735027223229|3.2880807074355465|\n",
      "|       School|       1529| 6.938985074626863|3.1739112384273676|\n",
      "|    Adventure|       1473| 6.813311312964486| 3.057665960891767|\n",
      "|        Mecha|       1010| 6.648888888888887| 2.096566612695645|\n",
      "|Slice of Life|        968| 6.756351351351351| 2.009382654543945|\n",
      "|        Magic|        948|   6.8275900621118|1.9678664839955162|\n",
      "+-------------+-----------+------------------+------------------+\n",
      "only showing top 10 rows\n",
      "\n"
     ]
    },
    {
     "name": "stderr",
     "output_type": "stream",
     "text": [
      "\r",
      "                                                                                \r"
     ]
    }
   ],
   "source": [
    "popular_genres = anime.withColumn('genres_list', f.split('genres', ','))\\\n",
    "                     .withColumn('genre', f.explode('genres_list'))\\\n",
    "                     .groupBy('genre')\\\n",
    "                     .agg(f.count(f.col('name')).alias('genre_count'), f.avg(f.col('score')).alias('avg_score'))\\\n",
    "                     .orderBy('genre_count', ascending=False)\\\n",
    "                    .withColumn('pct_of_total', f.col('genre_count') / f.sum('genre_count').over(Window.partitionBy()))\\\n",
    "                    .withColumn('pct_of_total', f.col('pct_of_total') * 100)\\\n",
    "                    .cache()\n",
    "\n",
    "popular_genres.show(10)"
   ]
  },
  {
   "cell_type": "code",
   "execution_count": 7,
   "id": "810cc441",
   "metadata": {},
   "outputs": [
    {
     "name": "stdout",
     "output_type": "stream",
     "text": [
      "+-----------------+\n",
      "|          pct_sum|\n",
      "+-----------------+\n",
      "|99.99999999999999|\n",
      "+-----------------+\n",
      "\n"
     ]
    }
   ],
   "source": [
    "popular_genres.select(f.sum(popular_genres['pct_of_total']).alias('pct_sum')).show()"
   ]
  },
  {
   "cell_type": "code",
   "execution_count": 8,
   "id": "0fa85a26",
   "metadata": {},
   "outputs": [
    {
     "name": "stderr",
     "output_type": "stream",
     "text": [
      "21/11/30 19:22:26 WARN org.apache.spark.sql.execution.window.WindowExec: No Partition Defined for Window operation! Moving all data to a single partition, this can cause serious performance degradation.\n",
      "21/11/30 19:22:26 WARN org.apache.spark.sql.execution.window.WindowExec: No Partition Defined for Window operation! Moving all data to a single partition, this can cause serious performance degradation.\n"
     ]
    },
    {
     "name": "stdout",
     "output_type": "stream",
     "text": [
      "+-------------+------------------+-------------------+------------------+\n",
      "|        genre| pct_of_total_left| pct_of_total_right|    abs_difference|\n",
      "+-------------+------------------+-------------------+------------------+\n",
      "|        Drama|3.7343795408311538|  6.980620962700562|3.2462414218694082|\n",
      "|         Kids|3.2880807074355465|0.22921441967076475| 3.058866287764782|\n",
      "|      Shounen| 4.112176692821854|  6.813919566576371| 2.701742873754517|\n",
      "|        Music|3.0140739818159172| 0.5417795374036257|2.4722944444122916|\n",
      "|         Kids|2.2418732096151452|0.04167534903104814| 2.200197860584097|\n",
      "|       Comedy|   6.4121725412048|  4.480100020837675|1.9320725203671252|\n",
      "| Supernatural|  2.80026570349151|  4.605126067930819|1.8048603644393086|\n",
      "|      Mystery|1.0897994768962511| 2.6880600125026044|1.5982605356063533|\n",
      "|      Romance| 3.543405156308382| 4.7093144405084395|1.1659092842000573|\n",
      "|       School|3.1739112384273676|  4.313398624713482|1.1394873862861146|\n",
      "+-------------+------------------+-------------------+------------------+\n",
      "only showing top 10 rows\n",
      "\n"
     ]
    }
   ],
   "source": [
    "anime_10th_ptile = anime.filter('score is not null')\\\n",
    "            .select('name', 'genres', 'score', f.percent_rank().over(Window.partitionBy().orderBy(anime['score'])).alias('pct_rank'))\\\n",
    "            .filter('pct_rank >= 0.9')\\\n",
    "\n",
    "popular_genres_10th_ptile = anime_10th_ptile.withColumn('genres_list', f.split('genres', ','))\\\n",
    "             .withColumn('genre', f.explode('genres_list'))\\\n",
    "             .groupBy('genre')\\\n",
    "             .agg(f.count(f.col('name')).alias('genre_count'), f.avg(f.col('score')).alias('avg_score'))\\\n",
    "             .orderBy('genre_count', ascending=False)\\\n",
    "            .withColumn('pct_of_total', f.col('genre_count') / f.sum('genre_count').over(Window.partitionBy()))\\\n",
    "            .withColumn('pct_of_total', f.col('pct_of_total') * 100)\\\n",
    "            .cache()\n",
    "\n",
    "popular_compare = popular_genres[['genre', 'pct_of_total']].withColumnRenamed('pct_of_total', 'pct_of_total_left')\\\n",
    "    .join(popular_genres_10th_ptile[['genre', 'pct_of_total']].withColumnRenamed('pct_of_total', 'pct_of_total_right'), on='genre', how='left')\\\n",
    "    .withColumn('abs_difference', f.abs(f.col('pct_of_total_right') - f.col('pct_of_total_left')))\\\n",
    "    .orderBy('abs_difference', ascending=False)\n",
    "\n",
    "popular_compare.show(10)"
   ]
  },
  {
   "cell_type": "code",
   "execution_count": 9,
   "id": "60f014f6",
   "metadata": {},
   "outputs": [
    {
     "name": "stdout",
     "output_type": "stream",
     "text": [
      "+------------+\n",
      "|       genre|\n",
      "+------------+\n",
      "|       Mecha|\n",
      "|      Parody|\n",
      "|     Unknown|\n",
      "|      Police|\n",
      "| Super Power|\n",
      "|      Seinen|\n",
      "|  Shounen Ai|\n",
      "|        Yaoi|\n",
      "|Martial Arts|\n",
      "|     Samurai|\n",
      "+------------+\n",
      "only showing top 10 rows\n",
      "\n"
     ]
    }
   ],
   "source": [
    "popular_compare.select('genre').filter(f.col('pct_of_total_right').isNull()).show(10)"
   ]
  },
  {
   "cell_type": "code",
   "execution_count": 10,
   "id": "3e2aad1a",
   "metadata": {},
   "outputs": [
    {
     "name": "stdout",
     "output_type": "stream",
     "text": [
      "+-------+--------+------+---------------+----------------+\n",
      "|user_id|anime_id|rating|watching_status|watched_episodes|\n",
      "+-------+--------+------+---------------+----------------+\n",
      "|      0|      67|     9|              1|               1|\n",
      "|      0|    6702|     7|              1|               4|\n",
      "|      0|     242|    10|              1|               4|\n",
      "|      0|    4898|     0|              1|               1|\n",
      "|      0|      21|    10|              1|               0|\n",
      "+-------+--------+------+---------------+----------------+\n",
      "only showing top 5 rows\n",
      "\n"
     ]
    }
   ],
   "source": [
    "animelist.show(5)"
   ]
  },
  {
   "cell_type": "markdown",
   "id": "fd202e42",
   "metadata": {},
   "source": [
    "# Watched episode analysis"
   ]
  },
  {
   "cell_type": "code",
   "execution_count": 11,
   "id": "5eafde09",
   "metadata": {},
   "outputs": [],
   "source": [
    "most_watched_anime = animelist.groupBy('anime_id')\\\n",
    "    .agg(f.count(f.col('user_id')).alias('user_cnt'),\n",
    "         f.mean(f.col('rating')).alias('mean_rating'),\n",
    "         f.stddev(f.col('rating')).alias('std_rating'),\n",
    "         f.percentile_approx(f.col('rating'), 0.5).alias('median_rating'),\n",
    "         f.mean(f.col('watched_episodes')).alias('mean_num_episodes'))\\\n",
    "    .orderBy('user_cnt', ascending=False)\\\n",
    "    .cache()\n",
    "    "
   ]
  },
  {
   "cell_type": "code",
   "execution_count": 12,
   "id": "2eb94310",
   "metadata": {},
   "outputs": [
    {
     "name": "stderr",
     "output_type": "stream",
     "text": [
      "[Stage 31:=====================================================>(199 + 1) / 200]\r"
     ]
    },
    {
     "name": "stdout",
     "output_type": "stream",
     "text": [
      "+--------+--------+------------------+------------------+-------------+------------------+\n",
      "|anime_id|user_cnt|       mean_rating|        std_rating|median_rating| mean_num_episodes|\n",
      "+--------+--------+------------------+------------------+-------------+------------------+\n",
      "|    1535|  238790| 7.060513421835085|3.5440124213064155|            8|33.582227061434736|\n",
      "|   16498|  216767| 6.955048508306153|3.4775672581522987|            8| 22.66545645785567|\n",
      "|   11757|  209919| 5.967449349511002| 3.398963373813621|            7| 22.26595496358119|\n",
      "|    5114|  201611| 6.624102851530918| 4.208399650778187|            9| 49.60007142467425|\n",
      "|    4224|  196190| 6.042402772822264| 3.881768201022249|            8| 20.88801162138743|\n",
      "|    6547|  194652| 6.143219694634527|3.7855301933369194|            8|11.717958202330312|\n",
      "|    1575|  193770| 6.461572998916241|3.9761002093332167|            8|21.316560871135884|\n",
      "|    9253|  192783|  6.09311505682555|  4.39019939535265|            9|17.244777807171793|\n",
      "|      20|  180244|6.0843967066864915| 3.391971180805305|            7|185.18116553116886|\n",
      "|   10620|  178385| 5.385379936653867|3.7699752546807797|            7| 20.32652969700367|\n",
      "+--------+--------+------------------+------------------+-------------+------------------+\n",
      "only showing top 10 rows\n",
      "\n",
      "CPU times: user 155 ms, sys: 36.2 ms, total: 191 ms\n",
      "Wall time: 1min 41s\n"
     ]
    },
    {
     "name": "stderr",
     "output_type": "stream",
     "text": [
      "\r",
      "                                                                                \r"
     ]
    }
   ],
   "source": [
    "%%time\n",
    "most_watched_anime.show(10)"
   ]
  },
  {
   "cell_type": "markdown",
   "id": "520a3c59",
   "metadata": {},
   "source": [
    "# Combined sorting"
   ]
  },
  {
   "cell_type": "code",
   "execution_count": 13,
   "id": "64529556",
   "metadata": {},
   "outputs": [
    {
     "name": "stderr",
     "output_type": "stream",
     "text": [
      "[Stage 39:==========================================>           (159 + 8) / 200]\r"
     ]
    },
    {
     "name": "stdout",
     "output_type": "stream",
     "text": [
      "-RECORD 0------------------------------------------------------------------------------------------------------------------------------------------------------------------------------------------------------------------------------------------------------------------------------------------------------------------------------------------------------------------------------------------------------------------------------------------------------------------------------------------------------------------------------------------------------------------------------------------------------------------------------------------------------------------------------------------------------------------------------------------------------------------------------------------------------------------------------------------------------------------------------------------------------------------------------------------------------------------------------------------------------------------------------------------------------------------------------------------------------------------------------------------------------------------------------------------------------------------------------------------------------------------------------------\n",
      " anime_id          | 1535                                                                                                                                                                                                                                                                                                                                                                                                                                                                                                                                                                                                                                                                                                                                                                                                                                                                                                                                                                                                                                                                                                                                                                                                                                                                    \n",
      " name              | Death Note                                                                                                                                                                                                                                                                                                                                                                                                                                                                                                                                                                                                                                                                                                                                                                                                                                                                                                                                                                                                                                                                                                                                                                                                                                                              \n",
      " score             | 8.63                                                                                                                                                                                                                                                                                                                                                                                                                                                                                                                                                                                                                                                                                                                                                                                                                                                                                                                                                                                                                                                                                                                                                                                                                                                                    \n",
      " genres            | Mystery, Police, Psychological, Supernatural, Thriller, Shounen                                                                                                                                                                                                                                                                                                                                                                                                                                                                                                                                                                                                                                                                                                                                                                                                                                                                                                                                                                                                                                                                                                                                                                                                         \n",
      " synopsis          | shinigami, as a god of death, can kill any person—provided they see their victim's face and write their victim's name in a notebook called a Death Note. One day, Ryuk, bored by the shinigami lifestyle and interested in seeing how a human would use a Death Note, drops one into the human realm. High school student and prodigy Light Yagami stumbles upon the Death Note and—since he deplores the state of the world—tests the deadly notebook by writing a criminal's name in it. When the criminal dies immediately following his experiment with the Death Note, Light is greatly surprised and quickly recognizes how devastating the power that has fallen into his hands could be. With this divine capability, Light decides to extinguish all criminals in order to build a new world where crime does not exist and people worship him as a god. Police, however, quickly discover that a serial killer is targeting criminals and, consequently, try to apprehend the culprit. To do this, the Japanese investigators count on the assistance of the best detective in the world: a young and eccentric man known only by the name of L.                                                                                                              \n",
      " user_cnt          | 238790                                                                                                                                                                                                                                                                                                                                                                                                                                                                                                                                                                                                                                                                                                                                                                                                                                                                                                                                                                                                                                                                                                                                                                                                                                                                  \n",
      " mean_rating       | 7.060513421835085                                                                                                                                                                                                                                                                                                                                                                                                                                                                                                                                                                                                                                                                                                                                                                                                                                                                                                                                                                                                                                                                                                                                                                                                                                                       \n",
      " std_rating        | 3.5440124213064155                                                                                                                                                                                                                                                                                                                                                                                                                                                                                                                                                                                                                                                                                                                                                                                                                                                                                                                                                                                                                                                                                                                                                                                                                                                      \n",
      " median_rating     | 8                                                                                                                                                                                                                                                                                                                                                                                                                                                                                                                                                                                                                                                                                                                                                                                                                                                                                                                                                                                                                                                                                                                                                                                                                                                                       \n",
      " mean_num_episodes | 33.582227061434736                                                                                                                                                                                                                                                                                                                                                                                                                                                                                                                                                                                                                                                                                                                                                                                                                                                                                                                                                                                                                                                                                                                                                                                                                                                      \n",
      "-RECORD 1------------------------------------------------------------------------------------------------------------------------------------------------------------------------------------------------------------------------------------------------------------------------------------------------------------------------------------------------------------------------------------------------------------------------------------------------------------------------------------------------------------------------------------------------------------------------------------------------------------------------------------------------------------------------------------------------------------------------------------------------------------------------------------------------------------------------------------------------------------------------------------------------------------------------------------------------------------------------------------------------------------------------------------------------------------------------------------------------------------------------------------------------------------------------------------------------------------------------------------------------------------------------------------\n",
      " anime_id          | 16498                                                                                                                                                                                                                                                                                                                                                                                                                                                                                                                                                                                                                                                                                                                                                                                                                                                                                                                                                                                                                                                                                                                                                                                                                                                                   \n",
      " name              | Shingeki no Kyojin                                                                                                                                                                                                                                                                                                                                                                                                                                                                                                                                                                                                                                                                                                                                                                                                                                                                                                                                                                                                                                                                                                                                                                                                                                                      \n",
      " score             | 8.48                                                                                                                                                                                                                                                                                                                                                                                                                                                                                                                                                                                                                                                                                                                                                                                                                                                                                                                                                                                                                                                                                                                                                                                                                                                                    \n",
      " genres            | Action, Military, Mystery, Super Power, Drama, Fantasy, Shounen                                                                                                                                                                                                                                                                                                                                                                                                                                                                                                                                                                                                                                                                                                                                                                                                                                                                                                                                                                                                                                                                                                                                                                                                         \n",
      " synopsis          | Centuries ago, mankind was slaughtered to near extinction by monstrous humanoid creatures called titans, forcing humans to hide in fear behind enormous concentric walls. What makes these giants truly terrifying is that their taste for human flesh is not born out of hunger but what appears to be out of pleasure. To ensure their survival, the remnants of humanity began living within defensive barriers, resulting in one hundred years without a single titan encounter. However, that fragile calm is soon shattered when a colossal titan manages to breach the supposedly impregnable outer wall, reigniting the fight for survival against the man-eating abominations. After witnessing a horrific personal loss at the hands of the invading creatures, Eren Yeager dedicates his life to their eradication by enlisting into the Survey Corps, an elite military unit that combats the merciless humanoids outside the protection of the walls. Based on Hajime Isayama's award-winning manga, Shingeki no Kyojin follows Eren, along with his adopted sister Mikasa Ackerman and his childhood friend Armin Arlert, as they join the brutal war against the titans and race to discover a way of defeating them before the last walls are breached. \n",
      " user_cnt          | 216767                                                                                                                                                                                                                                                                                                                                                                                                                                                                                                                                                                                                                                                                                                                                                                                                                                                                                                                                                                                                                                                                                                                                                                                                                                                                  \n",
      " mean_rating       | 6.955048508306153                                                                                                                                                                                                                                                                                                                                                                                                                                                                                                                                                                                                                                                                                                                                                                                                                                                                                                                                                                                                                                                                                                                                                                                                                                                       \n",
      " std_rating        | 3.4775672581522987                                                                                                                                                                                                                                                                                                                                                                                                                                                                                                                                                                                                                                                                                                                                                                                                                                                                                                                                                                                                                                                                                                                                                                                                                                                      \n",
      " median_rating     | 8                                                                                                                                                                                                                                                                                                                                                                                                                                                                                                                                                                                                                                                                                                                                                                                                                                                                                                                                                                                                                                                                                                                                                                                                                                                                       \n",
      " mean_num_episodes | 22.66545645785567                                                                                                                                                                                                                                                                                                                                                                                                                                                                                                                                                                                                                                                                                                                                                                                                                                                                                                                                                                                                                                                                                                                                                                                                                                                       \n",
      "-RECORD 2------------------------------------------------------------------------------------------------------------------------------------------------------------------------------------------------------------------------------------------------------------------------------------------------------------------------------------------------------------------------------------------------------------------------------------------------------------------------------------------------------------------------------------------------------------------------------------------------------------------------------------------------------------------------------------------------------------------------------------------------------------------------------------------------------------------------------------------------------------------------------------------------------------------------------------------------------------------------------------------------------------------------------------------------------------------------------------------------------------------------------------------------------------------------------------------------------------------------------------------------------------------------------------\n",
      " anime_id          | 11757                                                                                                                                                                                                                                                                                                                                                                                                                                                                                                                                                                                                                                                                                                                                                                                                                                                                                                                                                                                                                                                                                                                                                                                                                                                                   \n",
      " name              | Sword Art Online                                                                                                                                                                                                                                                                                                                                                                                                                                                                                                                                                                                                                                                                                                                                                                                                                                                                                                                                                                                                                                                                                                                                                                                                                                                        \n",
      " score             | 7.25                                                                                                                                                                                                                                                                                                                                                                                                                                                                                                                                                                                                                                                                                                                                                                                                                                                                                                                                                                                                                                                                                                                                                                                                                                                                    \n",
      " genres            | Action, Game, Adventure, Romance, Fantasy                                                                                                                                                                                                                                                                                                                                                                                                                                                                                                                                                                                                                                                                                                                                                                                                                                                                                                                                                                                                                                                                                                                                                                                                                               \n",
      " synopsis          | \"In the year 2022, virtual reality has progressed by leaps and bounds, and a massive online role-playing game called Sword Art Online (SAO) is launched. With the aid of \"\"NerveGear\"\" technology                                                                                                                                                                                                                                                                                                                                                                                                                                                                                                                                                                                                                                                                                                                                                                                                                                                                                                                                                                                                                                                                       \n",
      " user_cnt          | 209919                                                                                                                                                                                                                                                                                                                                                                                                                                                                                                                                                                                                                                                                                                                                                                                                                                                                                                                                                                                                                                                                                                                                                                                                                                                                  \n",
      " mean_rating       | 5.967449349511002                                                                                                                                                                                                                                                                                                                                                                                                                                                                                                                                                                                                                                                                                                                                                                                                                                                                                                                                                                                                                                                                                                                                                                                                                                                       \n",
      " std_rating        | 3.398963373813621                                                                                                                                                                                                                                                                                                                                                                                                                                                                                                                                                                                                                                                                                                                                                                                                                                                                                                                                                                                                                                                                                                                                                                                                                                                       \n",
      " median_rating     | 7                                                                                                                                                                                                                                                                                                                                                                                                                                                                                                                                                                                                                                                                                                                                                                                                                                                                                                                                                                                                                                                                                                                                                                                                                                                                       \n",
      " mean_num_episodes | 22.26595496358119                                                                                                                                                                                                                                                                                                                                                                                                                                                                                                                                                                                                                                                                                                                                                                                                                                                                                                                                                                                                                                                                                                                                                                                                                                                       \n",
      "only showing top 3 rows\n",
      "\n"
     ]
    },
    {
     "name": "stderr",
     "output_type": "stream",
     "text": [
      "\r",
      "                                                                                \r"
     ]
    }
   ],
   "source": [
    "anime_joined = best_anime\\\n",
    "    .join(most_watched_anime, on='anime_id', how='inner')\\\n",
    "    .orderBy('user_cnt', ascending=False)\\\n",
    "    .cache()\n",
    "\n",
    "anime_joined.show(3, truncate=False, vertical=True)"
   ]
  },
  {
   "cell_type": "code",
   "execution_count": 14,
   "id": "470c851e",
   "metadata": {},
   "outputs": [
    {
     "name": "stdout",
     "output_type": "stream",
     "text": [
      "Unique genres: 83\n"
     ]
    }
   ],
   "source": [
    "genres_list = [g['genre'].strip() for g in popular_genres.select('genre').collect()]\n",
    "print('Unique genres: %s' % len(genres_list))"
   ]
  },
  {
   "cell_type": "markdown",
   "id": "dc83455b",
   "metadata": {},
   "source": [
    "# Binarize Genres"
   ]
  },
  {
   "cell_type": "code",
   "execution_count": 15,
   "id": "c6da6dbb",
   "metadata": {},
   "outputs": [
    {
     "name": "stdout",
     "output_type": "stream",
     "text": [
      "['6.45' '7.14' 'Action' 'Adventure' 'Cars' 'Comedy' 'Dementia' 'Demons'\n",
      " 'Drama' 'Ecchi']\n",
      "44\n"
     ]
    }
   ],
   "source": [
    "ml_bin = MultiLabelBinarizer()\n",
    "ml_bin.fit([genres_list])\n",
    "\n",
    "print(ml_bin.classes_[:10])\n",
    "print(len(ml_bin.classes_))"
   ]
  },
  {
   "cell_type": "code",
   "execution_count": 16,
   "id": "e5252860",
   "metadata": {},
   "outputs": [],
   "source": [
    "def binarize_genres(entry, binarizer):\n",
    "    entry_list = [el.strip() for el in entry.split(', ')]\n",
    "    entry_list = [el for el in entry_list if el != '']\n",
    "    entry_tpl = tuple(entry_list)\n",
    "    vector = binarizer.transform([entry_tpl])\n",
    "    return [int(i) for i in vector[0]]"
   ]
  },
  {
   "cell_type": "code",
   "execution_count": 17,
   "id": "15b845e3",
   "metadata": {},
   "outputs": [
    {
     "name": "stdout",
     "output_type": "stream",
     "text": [
      "['anime_id', 'genres_binarized', 'user_cnt', 'mean_num_episodes', 'score', 'genre_0', 'genre_1', 'genre_2', 'genre_3', 'genre_4', 'genre_5', 'genre_6', 'genre_7', 'genre_8', 'genre_9', 'genre_10', 'genre_11', 'genre_12', 'genre_13', 'genre_14', 'genre_15', 'genre_16', 'genre_17', 'genre_18', 'genre_19', 'genre_20', 'genre_21', 'genre_22', 'genre_23', 'genre_24', 'genre_25', 'genre_26', 'genre_27', 'genre_28', 'genre_29', 'genre_30', 'genre_31', 'genre_32', 'genre_33', 'genre_34', 'genre_35', 'genre_36', 'genre_37', 'genre_38', 'genre_39', 'genre_40', 'genre_41', 'genre_42', 'genre_43']\n"
     ]
    }
   ],
   "source": [
    "binarize_genres_udf = f.udf(lambda x: binarize_genres(x, ml_bin), returnType=ArrayType(IntegerType()))\n",
    "data = anime_joined\\\n",
    "    .withColumn('genres_binarized', binarize_genres_udf(f.col('genres')))\\\n",
    "    .select(['anime_id', 'genres_binarized', 'user_cnt', 'mean_num_episodes', 'score'])\\\n",
    "    .cache()\n",
    "\n",
    "for idx, genre_name in enumerate(ml_bin.classes_):\n",
    "    data = data.withColumn(f'genre_{idx}', f.col('genres_binarized').getItem(idx))\n",
    "print(data.columns)"
   ]
  },
  {
   "cell_type": "code",
   "execution_count": 18,
   "id": "2669246e",
   "metadata": {},
   "outputs": [],
   "source": [
    "data = data.drop('genres_binarized')"
   ]
  },
  {
   "cell_type": "code",
   "execution_count": 88,
   "id": "188a5bf3",
   "metadata": {},
   "outputs": [],
   "source": [
    "assembler = VectorAssembler(inputCols=data.drop('score').columns,\n",
    "                            outputCol='features')\n",
    "\n",
    "linreg = LinearRegression(featuresCol='features', labelCol='score',maxIter=20, regParam=0.3, elasticNetParam=0.8)\n",
    "\n",
    "pipeline = Pipeline(stages=[assembler,\n",
    "                           linreg])"
   ]
  },
  {
   "cell_type": "markdown",
   "id": "5e5bb5fa",
   "metadata": {},
   "source": [
    "# linear regression"
   ]
  },
  {
   "cell_type": "code",
   "execution_count": 93,
   "id": "60e7848f",
   "metadata": {},
   "outputs": [
    {
     "name": "stdout",
     "output_type": "stream",
     "text": [
      "+------------------+-----+\n",
      "|        prediction|score|\n",
      "+------------------+-----+\n",
      "| 8.043908097179159|  8.2|\n",
      "| 7.976659535111251| 8.07|\n",
      "| 7.863123586170315| 7.88|\n",
      "| 7.798530046293256| 8.29|\n",
      "| 7.788080958959096| 7.88|\n",
      "| 7.681961072002094|  9.0|\n",
      "| 7.645672768702066| 8.33|\n",
      "| 7.603615417183953| 7.73|\n",
      "| 7.587397281631708| 7.07|\n",
      "|7.5762461884301375| 7.78|\n",
      "|7.5311918118626915| 8.49|\n",
      "|  7.42512592535703| 7.82|\n",
      "| 7.352792320788001| 7.41|\n",
      "| 7.341182223750045|  8.7|\n",
      "| 7.328492117685303| 7.51|\n",
      "| 7.309699960619217| 7.32|\n",
      "| 7.293157822358936| 8.03|\n",
      "| 7.290790802575229| 8.38|\n",
      "| 7.260847552307572| 8.24|\n",
      "| 7.256500515974756| 7.65|\n",
      "+------------------+-----+\n",
      "only showing top 20 rows\n",
      "\n"
     ]
    }
   ],
   "source": [
    "pipeline_model = pipeline.fit(data)\n",
    "result = pipeline_model.transform(data)\n",
    "result.select('prediction', 'score').sample(0.1).show()"
   ]
  },
  {
   "cell_type": "code",
   "execution_count": 94,
   "id": "d67c64da",
   "metadata": {},
   "outputs": [
    {
     "name": "stdout",
     "output_type": "stream",
     "text": [
      "Test set accuracy = 0.8285689565013016\n"
     ]
    }
   ],
   "source": [
    "from pyspark.ml.evaluation import RegressionEvaluator\n",
    "evaluator = RegressionEvaluator(\n",
    "           metricName=\"rmse\", \n",
    "           labelCol=\"score\", \n",
    "           predictionCol=\"prediction\") \n",
    "accuracy1 = evaluator.evaluate(result)\n",
    "print(\"Test set accuracy = \" + str(accuracy1))"
   ]
  },
  {
   "cell_type": "markdown",
   "id": "2b0de71f",
   "metadata": {},
   "source": [
    "# Random Forest"
   ]
  },
  {
   "cell_type": "code",
   "execution_count": 95,
   "id": "8aed6663",
   "metadata": {},
   "outputs": [
    {
     "name": "stderr",
     "output_type": "stream",
     "text": [
      "                                                                                \r"
     ]
    },
    {
     "name": "stdout",
     "output_type": "stream",
     "text": [
      "+-----------------+-----+\n",
      "|       prediction|score|\n",
      "+-----------------+-----+\n",
      "|7.365164354836111| 8.11|\n",
      "|7.365164354836111| 8.17|\n",
      "|7.365164354836111| 8.45|\n",
      "|7.365164354836111| 8.34|\n",
      "|7.365164354836111| 7.65|\n",
      "|6.936537322454742| 8.05|\n",
      "|7.365164354836111| 8.59|\n",
      "|7.365164354836111| 8.27|\n",
      "|7.365164354836111| 8.38|\n",
      "|6.936537322454742| 8.38|\n",
      "|7.365164354836111|  7.5|\n",
      "|6.936537322454742| 7.04|\n",
      "|7.365164354836111| 8.24|\n",
      "|7.365164354836111| 8.54|\n",
      "|7.068988124175291| 7.54|\n",
      "|6.936537322454742| 7.59|\n",
      "|7.365164354836111| 8.07|\n",
      "|7.365164354836111| 7.56|\n",
      "|6.936537322454742| 8.51|\n",
      "|6.936537322454742|  7.7|\n",
      "+-----------------+-----+\n",
      "only showing top 20 rows\n",
      "\n"
     ]
    }
   ],
   "source": [
    "from pyspark.ml.regression import RandomForestRegressor\n",
    "rf = RandomForestRegressor(labelCol=\"score\", featuresCol=\"features\", numTrees=2,maxDepth=4)\n",
    "pipeline = Pipeline(stages=[assembler,\n",
    "                           rf])\n",
    "pipeline_model = pipeline.fit(data)\n",
    "prediction = pipeline_model.transform(data)\n",
    "prediction.select('prediction', 'score').sample(0.1).show()\n"
   ]
  },
  {
   "cell_type": "code",
   "execution_count": 96,
   "id": "c626a3e7",
   "metadata": {},
   "outputs": [
    {
     "name": "stdout",
     "output_type": "stream",
     "text": [
      "Test set accuracy = 0.6688581386733015\n"
     ]
    }
   ],
   "source": [
    "evaluator = RegressionEvaluator(\n",
    "           metricName=\"rmse\", \n",
    "           labelCol=\"score\", \n",
    "           predictionCol=\"prediction\") \n",
    "accuracy2 = evaluator.evaluate(prediction)\n",
    "print(\"Test set accuracy = \" + str(accuracy2))"
   ]
  },
  {
   "cell_type": "markdown",
   "id": "65fd6c9d",
   "metadata": {},
   "source": [
    "# Decision Trees"
   ]
  },
  {
   "cell_type": "code",
   "execution_count": 97,
   "id": "1f5133e8",
   "metadata": {},
   "outputs": [
    {
     "name": "stderr",
     "output_type": "stream",
     "text": [
      "                                                                                \r"
     ]
    },
    {
     "name": "stdout",
     "output_type": "stream",
     "text": [
      "+------------------+-----+\n",
      "|        prediction|score|\n",
      "+------------------+-----+\n",
      "| 7.926541353383455| 8.48|\n",
      "| 7.926541353383455| 8.83|\n",
      "| 7.926541353383455| 8.91|\n",
      "| 7.926541353383455| 7.68|\n",
      "| 7.926541353383455| 8.29|\n",
      "| 7.926541353383455| 8.37|\n",
      "| 7.926541353383455| 7.73|\n",
      "| 7.926541353383455| 8.12|\n",
      "|7.1827659574468115| 7.33|\n",
      "| 7.926541353383455| 8.05|\n",
      "| 7.926541353383455| 8.64|\n",
      "| 7.926541353383455| 8.35|\n",
      "| 7.926541353383455| 7.77|\n",
      "| 7.926541353383455| 8.59|\n",
      "| 7.926541353383455| 8.03|\n",
      "| 7.926541353383455| 7.92|\n",
      "| 7.926541353383455| 8.09|\n",
      "| 7.926541353383455| 8.29|\n",
      "|7.1827659574468115| 7.65|\n",
      "| 7.926541353383455| 8.78|\n",
      "+------------------+-----+\n",
      "only showing top 20 rows\n",
      "\n"
     ]
    }
   ],
   "source": [
    "from pyspark.ml.regression import DecisionTreeRegressor\n",
    "dt = DecisionTreeRegressor(labelCol=\"score\", featuresCol=\"features\",maxDepth=4, maxBins=32)\n",
    "pipeline = Pipeline(stages=[assembler,\n",
    "                           dt])\n",
    "pipeline_model = pipeline.fit(data)\n",
    "prediction = pipeline_model.transform(data)\n",
    "prediction.select('prediction', 'score').sample(0.1).show()"
   ]
  },
  {
   "cell_type": "code",
   "execution_count": 98,
   "id": "4f4dcd81",
   "metadata": {},
   "outputs": [
    {
     "name": "stdout",
     "output_type": "stream",
     "text": [
      "Test set accuracy = 0.632317042625172\n"
     ]
    }
   ],
   "source": [
    "evaluator = RegressionEvaluator(\n",
    "           metricName=\"rmse\", \n",
    "           labelCol=\"score\", \n",
    "           predictionCol=\"prediction\") \n",
    "accuracy3 = evaluator.evaluate(prediction)\n",
    "print(\"Test set accuracy = \" + str(accuracy3))"
   ]
  },
  {
   "cell_type": "markdown",
   "id": "c42b2571",
   "metadata": {},
   "source": [
    "# GBT"
   ]
  },
  {
   "cell_type": "code",
   "execution_count": 99,
   "id": "2142f1ff",
   "metadata": {},
   "outputs": [
    {
     "name": "stderr",
     "output_type": "stream",
     "text": [
      "                                                                                \r"
     ]
    },
    {
     "name": "stdout",
     "output_type": "stream",
     "text": [
      "+------------------+-----+\n",
      "|        prediction|score|\n",
      "+------------------+-----+\n",
      "| 7.926541353383455| 8.72|\n",
      "| 7.926541353383455| 7.54|\n",
      "| 7.926541353383455| 8.36|\n",
      "| 7.926541353383455| 8.96|\n",
      "| 7.926541353383455| 7.88|\n",
      "| 7.926541353383455| 7.15|\n",
      "| 7.926541353383455| 8.38|\n",
      "| 7.926541353383455| 8.37|\n",
      "| 7.926541353383455| 8.78|\n",
      "| 7.926541353383455| 7.53|\n",
      "| 7.926541353383455| 7.83|\n",
      "| 7.926541353383455| 8.29|\n",
      "| 7.926541353383455| 7.64|\n",
      "| 7.926541353383455| 8.67|\n",
      "|7.1827659574468115| 7.27|\n",
      "| 7.926541353383455| 8.25|\n",
      "| 7.926541353383455| 7.49|\n",
      "| 7.926541353383455| 8.69|\n",
      "| 7.926541353383455| 8.59|\n",
      "| 7.926541353383455| 8.07|\n",
      "+------------------+-----+\n",
      "only showing top 20 rows\n",
      "\n"
     ]
    }
   ],
   "source": [
    "from pyspark.ml.regression import GBTRegressor\n",
    "gbt = GBTRegressor(labelCol=\"score\", featuresCol=\"features\")\n",
    "pipeline = Pipeline(stages=[assembler,\n",
    "                           dt])\n",
    "pipeline_model = pipeline.fit(data)\n",
    "prediction = pipeline_model.transform(data)\n",
    "prediction.select('prediction', 'score').sample(0.1).show()"
   ]
  },
  {
   "cell_type": "code",
   "execution_count": 100,
   "id": "78dcc33e",
   "metadata": {},
   "outputs": [
    {
     "name": "stdout",
     "output_type": "stream",
     "text": [
      "Test set accuracy = 0.632317042625172\n"
     ]
    }
   ],
   "source": [
    "evaluator = RegressionEvaluator(\n",
    "           metricName=\"rmse\", \n",
    "           labelCol=\"score\", \n",
    "           predictionCol=\"prediction\") \n",
    "accuracy4 = evaluator.evaluate(prediction)\n",
    "print(\"Test set accuracy = \" + str(accuracy4))"
   ]
  },
  {
   "cell_type": "markdown",
   "id": "04a8cc76",
   "metadata": {},
   "source": [
    "# Summary"
   ]
  },
  {
   "cell_type": "code",
   "execution_count": 107,
   "id": "e486d691",
   "metadata": {},
   "outputs": [
    {
     "data": {
      "image/png": "[encoded data removed]",
      "text/plain": [
       "<Figure size 432x288 with 1 Axes>"
      ]
     },
     "metadata": {
      "needs_background": "light"
     },
     "output_type": "display_data"
    }
   ],
   "source": [
    "import matplotlib.pyplot as plt\n",
    "fig = plt.figure()\n",
    "ax = fig.add_axes([0,0,1,1])\n",
    "labels = ['Linear Regression', 'Random forest', 'Decision Trees', 'Gradient-boosted Trees']\n",
    "accuracys = [accuracy1,accuracy2,accuracy3,accuracy4]\n",
    "ax.bar(labels,accuracys)\n",
    "plt.savefig('Content-based flitering algo models compare.png')"
   ]
  },
  {
   "cell_type": "code",
   "execution_count": 106,
   "id": "17cd8bda",
   "metadata": {},
   "outputs": [
    {
     "data": {
      "text/plain": [
       "<Figure size 432x288 with 0 Axes>"
      ]
     },
     "metadata": {},
     "output_type": "display_data"
    }
   ],
   "source": []
  },
  {
   "cell_type": "code",
   "execution_count": null,
   "id": "cb0f14f6",
   "metadata": {},
   "outputs": [],
   "source": []
  }
 ],
 "metadata": {
  "kernelspec": {
   "display_name": "Python 3",
   "language": "python",
   "name": "python3"
  },
  "language_info": {
   "codemirror_mode": {
    "name": "ipython",
    "version": 3
   },
   "file_extension": ".py",
   "mimetype": "text/x-python",
   "name": "python",
   "nbconvert_exporter": "python",
   "pygments_lexer": "ipython3",
   "version": "3.8.8"
  }
 },
 "nbformat": 4,
 "nbformat_minor": 5
}
