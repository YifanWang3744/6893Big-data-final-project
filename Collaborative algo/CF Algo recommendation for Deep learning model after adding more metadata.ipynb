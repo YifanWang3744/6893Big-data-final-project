{
 "cells": [
  {
   "cell_type": "markdown",
   "metadata": {},
   "source": [
    "## **Collaborative Filtering**\n",
    "**predicting** what **users** will **like** based on their **similarity to other users.**"
   ]
  },
  {
   "cell_type": "code",
   "execution_count": 38,
   "metadata": {
    "execution": {
     "iopub.execute_input": "2021-11-19T20:56:34.255752Z",
     "iopub.status.busy": "2021-11-19T20:56:34.255245Z",
     "iopub.status.idle": "2021-11-19T20:57:36.330178Z",
     "shell.execute_reply": "2021-11-19T20:57:36.32938Z",
     "shell.execute_reply.started": "2021-11-19T20:56:34.25571Z"
    }
   },
   "outputs": [
    {
     "data": {
      "text/html": [
       "<div>\n",
       "<style scoped>\n",
       "    .dataframe tbody tr th:only-of-type {\n",
       "        vertical-align: middle;\n",
       "    }\n",
       "\n",
       "    .dataframe tbody tr th {\n",
       "        vertical-align: top;\n",
       "    }\n",
       "\n",
       "    .dataframe thead th {\n",
       "        text-align: right;\n",
       "    }\n",
       "</style>\n",
       "<table border=\"1\" class=\"dataframe\">\n",
       "  <thead>\n",
       "    <tr style=\"text-align: right;\">\n",
       "      <th></th>\n",
       "      <th>user_id</th>\n",
       "      <th>anime_id</th>\n",
       "      <th>rating</th>\n",
       "      <th>watching_status</th>\n",
       "      <th>watched_episodes</th>\n",
       "    </tr>\n",
       "  </thead>\n",
       "  <tbody>\n",
       "    <tr>\n",
       "      <th>0</th>\n",
       "      <td>0</td>\n",
       "      <td>67</td>\n",
       "      <td>9</td>\n",
       "      <td>1</td>\n",
       "      <td>1</td>\n",
       "    </tr>\n",
       "    <tr>\n",
       "      <th>1</th>\n",
       "      <td>0</td>\n",
       "      <td>6702</td>\n",
       "      <td>7</td>\n",
       "      <td>1</td>\n",
       "      <td>4</td>\n",
       "    </tr>\n",
       "    <tr>\n",
       "      <th>2</th>\n",
       "      <td>0</td>\n",
       "      <td>242</td>\n",
       "      <td>10</td>\n",
       "      <td>1</td>\n",
       "      <td>4</td>\n",
       "    </tr>\n",
       "    <tr>\n",
       "      <th>3</th>\n",
       "      <td>0</td>\n",
       "      <td>4898</td>\n",
       "      <td>0</td>\n",
       "      <td>1</td>\n",
       "      <td>1</td>\n",
       "    </tr>\n",
       "  </tbody>\n",
       "</table>\n",
       "</div>"
      ],
      "text/plain": [
       "   user_id  anime_id  rating  watching_status  watched_episodes\n",
       "0        0        67       9                1                 1\n",
       "1        0      6702       7                1                 4\n",
       "2        0       242      10                1                 4\n",
       "3        0      4898       0                1                 1"
      ]
     },
     "execution_count": 38,
     "metadata": {},
     "output_type": "execute_result"
    }
   ],
   "source": [
    "import numpy as np\n",
    "import pandas as pd\n",
    "\n",
    "rating_df = pd.read_csv('./animelist.csv', \n",
    "                        low_memory=False, \n",
    "                        usecols=[\"user_id\", \"anime_id\", \"rating\",\"watched_episodes\",\"watching_status\"]\n",
    "                        #, nrows=90000000\n",
    "                        )\n",
    "rating_df.head(4)"
   ]
  },
  {
   "cell_type": "code",
   "execution_count": 39,
   "metadata": {
    "execution": {
     "iopub.execute_input": "2021-11-19T20:57:36.33163Z",
     "iopub.status.busy": "2021-11-19T20:57:36.331377Z",
     "iopub.status.idle": "2021-11-19T20:57:40.515956Z",
     "shell.execute_reply": "2021-11-19T20:57:40.515175Z",
     "shell.execute_reply.started": "2021-11-19T20:57:36.331599Z"
    }
   },
   "outputs": [
    {
     "data": {
      "text/plain": [
       "71418114"
      ]
     },
     "execution_count": 39,
     "metadata": {},
     "output_type": "execute_result"
    }
   ],
   "source": [
    "# User should rate atleast 400 animies\n",
    "n_ratings = rating_df['user_id'].value_counts()\n",
    "rating_df = rating_df[rating_df['user_id'].isin(n_ratings[n_ratings >= 400].index)].copy()\n",
    "len(rating_df)"
   ]
  },
  {
   "cell_type": "code",
   "execution_count": 40,
   "metadata": {
    "execution": {
     "iopub.execute_input": "2021-11-19T20:57:40.517411Z",
     "iopub.status.busy": "2021-11-19T20:57:40.517171Z",
     "iopub.status.idle": "2021-11-19T20:58:37.138096Z",
     "shell.execute_reply": "2021-11-19T20:58:37.137094Z",
     "shell.execute_reply.started": "2021-11-19T20:57:40.517384Z"
    }
   },
   "outputs": [
    {
     "name": "stdout",
     "output_type": "stream",
     "text": [
      "Avg 0.40477935891013467\n"
     ]
    }
   ],
   "source": [
    "# Scaling BTW (0 , 1.0)\n",
    "min_rating = min(rating_df['rating'])\n",
    "max_rating = max(rating_df['rating'])\n",
    "rating_df['rating'] = rating_df[\"rating\"].apply(lambda x: (x - min_rating) / (max_rating - min_rating)).values.astype(np.float64)\n",
    "\n",
    "AvgRating = np.mean(rating_df['rating'])\n",
    "print('Avg', AvgRating)"
   ]
  },
  {
   "cell_type": "code",
   "execution_count": 41,
   "metadata": {
    "execution": {
     "iopub.execute_input": "2021-11-19T20:58:37.140362Z",
     "iopub.status.busy": "2021-11-19T20:58:37.140137Z",
     "iopub.status.idle": "2021-11-19T20:59:22.74915Z",
     "shell.execute_reply": "2021-11-19T20:59:22.748206Z",
     "shell.execute_reply.started": "2021-11-19T20:58:37.140337Z"
    }
   },
   "outputs": [
    {
     "name": "stdout",
     "output_type": "stream",
     "text": [
      "> 1 duplicates\n",
      "> 0 duplicates\n"
     ]
    }
   ],
   "source": [
    "# Removing Duplicated Rows\n",
    "duplicates = rating_df.duplicated()\n",
    "\n",
    "if duplicates.sum() > 0:\n",
    "    print('> {} duplicates'.format(duplicates.sum()))\n",
    "    rating_df = rating_df[~duplicates]\n",
    "\n",
    "print('> {} duplicates'.format(rating_df.duplicated().sum()))"
   ]
  },
  {
   "cell_type": "code",
   "execution_count": 42,
   "metadata": {
    "_kg_hide-input": false,
    "execution": {
     "iopub.execute_input": "2021-11-19T20:59:22.75097Z",
     "iopub.status.busy": "2021-11-19T20:59:22.750449Z",
     "iopub.status.idle": "2021-11-19T20:59:29.021128Z",
     "shell.execute_reply": "2021-11-19T20:59:29.020319Z",
     "shell.execute_reply.started": "2021-11-19T20:59:22.750941Z"
    }
   },
   "outputs": [
    {
     "data": {
      "text/html": [
       "<div>\n",
       "<style scoped>\n",
       "    .dataframe tbody tr th:only-of-type {\n",
       "        vertical-align: middle;\n",
       "    }\n",
       "\n",
       "    .dataframe tbody tr th {\n",
       "        vertical-align: top;\n",
       "    }\n",
       "\n",
       "    .dataframe thead th {\n",
       "        text-align: right;\n",
       "    }\n",
       "</style>\n",
       "<table border=\"1\" class=\"dataframe\">\n",
       "  <thead>\n",
       "    <tr style=\"text-align: right;\">\n",
       "      <th>anime_id</th>\n",
       "      <th>226</th>\n",
       "      <th>1535</th>\n",
       "      <th>1575</th>\n",
       "      <th>2001</th>\n",
       "      <th>2167</th>\n",
       "      <th>4224</th>\n",
       "      <th>5081</th>\n",
       "      <th>5114</th>\n",
       "      <th>6547</th>\n",
       "      <th>6746</th>\n",
       "      <th>9253</th>\n",
       "      <th>9989</th>\n",
       "      <th>10620</th>\n",
       "      <th>11757</th>\n",
       "      <th>15809</th>\n",
       "      <th>16498</th>\n",
       "      <th>19815</th>\n",
       "      <th>20507</th>\n",
       "      <th>22319</th>\n",
       "      <th>30276</th>\n",
       "    </tr>\n",
       "    <tr>\n",
       "      <th>user_id</th>\n",
       "      <th></th>\n",
       "      <th></th>\n",
       "      <th></th>\n",
       "      <th></th>\n",
       "      <th></th>\n",
       "      <th></th>\n",
       "      <th></th>\n",
       "      <th></th>\n",
       "      <th></th>\n",
       "      <th></th>\n",
       "      <th></th>\n",
       "      <th></th>\n",
       "      <th></th>\n",
       "      <th></th>\n",
       "      <th></th>\n",
       "      <th></th>\n",
       "      <th></th>\n",
       "      <th></th>\n",
       "      <th></th>\n",
       "      <th></th>\n",
       "    </tr>\n",
       "  </thead>\n",
       "  <tbody>\n",
       "    <tr>\n",
       "      <th>20807</th>\n",
       "      <td>1.0</td>\n",
       "      <td>1.0</td>\n",
       "      <td>1.0</td>\n",
       "      <td>1.0</td>\n",
       "      <td>0.8</td>\n",
       "      <td>1.0</td>\n",
       "      <td>0.9</td>\n",
       "      <td>1.0</td>\n",
       "      <td>1.0</td>\n",
       "      <td>1.0</td>\n",
       "      <td>1.0</td>\n",
       "      <td>0.9</td>\n",
       "      <td>1.0</td>\n",
       "      <td>1.0</td>\n",
       "      <td>0.8</td>\n",
       "      <td>1.0</td>\n",
       "      <td>1.0</td>\n",
       "      <td>1.0</td>\n",
       "      <td>1.0</td>\n",
       "      <td>1.0</td>\n",
       "    </tr>\n",
       "    <tr>\n",
       "      <th>50485</th>\n",
       "      <td>0.0</td>\n",
       "      <td>0.6</td>\n",
       "      <td>1.0</td>\n",
       "      <td>1.0</td>\n",
       "      <td>0.9</td>\n",
       "      <td>1.0</td>\n",
       "      <td>1.0</td>\n",
       "      <td>1.0</td>\n",
       "      <td>1.0</td>\n",
       "      <td>0.9</td>\n",
       "      <td>1.0</td>\n",
       "      <td>0.9</td>\n",
       "      <td>0.6</td>\n",
       "      <td>1.0</td>\n",
       "      <td>1.0</td>\n",
       "      <td>0.9</td>\n",
       "      <td>1.0</td>\n",
       "      <td>1.0</td>\n",
       "      <td>1.0</td>\n",
       "      <td>0.8</td>\n",
       "    </tr>\n",
       "    <tr>\n",
       "      <th>63900</th>\n",
       "      <td>0.7</td>\n",
       "      <td>0.0</td>\n",
       "      <td>0.0</td>\n",
       "      <td>0.0</td>\n",
       "      <td>0.0</td>\n",
       "      <td>0.0</td>\n",
       "      <td>0.0</td>\n",
       "      <td>0.9</td>\n",
       "      <td>0.0</td>\n",
       "      <td>0.0</td>\n",
       "      <td>0.0</td>\n",
       "      <td>0.8</td>\n",
       "      <td>0.0</td>\n",
       "      <td>0.0</td>\n",
       "      <td>0.0</td>\n",
       "      <td>0.8</td>\n",
       "      <td>0.0</td>\n",
       "      <td>0.8</td>\n",
       "      <td>0.8</td>\n",
       "      <td>0.8</td>\n",
       "    </tr>\n",
       "    <tr>\n",
       "      <th>68042</th>\n",
       "      <td>0.8</td>\n",
       "      <td>1.0</td>\n",
       "      <td>0.9</td>\n",
       "      <td>1.0</td>\n",
       "      <td>0.7</td>\n",
       "      <td>0.9</td>\n",
       "      <td>1.0</td>\n",
       "      <td>0.9</td>\n",
       "      <td>0.7</td>\n",
       "      <td>0.8</td>\n",
       "      <td>0.9</td>\n",
       "      <td>0.8</td>\n",
       "      <td>0.4</td>\n",
       "      <td>0.4</td>\n",
       "      <td>0.6</td>\n",
       "      <td>0.9</td>\n",
       "      <td>0.3</td>\n",
       "      <td>0.2</td>\n",
       "      <td>0.5</td>\n",
       "      <td>0.9</td>\n",
       "    </tr>\n",
       "    <tr>\n",
       "      <th>85472</th>\n",
       "      <td>0.7</td>\n",
       "      <td>0.0</td>\n",
       "      <td>0.0</td>\n",
       "      <td>1.0</td>\n",
       "      <td>0.9</td>\n",
       "      <td>0.9</td>\n",
       "      <td>0.0</td>\n",
       "      <td>0.0</td>\n",
       "      <td>1.0</td>\n",
       "      <td>0.0</td>\n",
       "      <td>0.8</td>\n",
       "      <td>0.0</td>\n",
       "      <td>0.8</td>\n",
       "      <td>0.9</td>\n",
       "      <td>0.8</td>\n",
       "      <td>0.8</td>\n",
       "      <td>0.7</td>\n",
       "      <td>0.7</td>\n",
       "      <td>0.7</td>\n",
       "      <td>0.9</td>\n",
       "    </tr>\n",
       "    <tr>\n",
       "      <th>92529</th>\n",
       "      <td>0.9</td>\n",
       "      <td>0.9</td>\n",
       "      <td>1.0</td>\n",
       "      <td>1.0</td>\n",
       "      <td>0.0</td>\n",
       "      <td>0.8</td>\n",
       "      <td>0.0</td>\n",
       "      <td>0.9</td>\n",
       "      <td>0.9</td>\n",
       "      <td>0.0</td>\n",
       "      <td>1.0</td>\n",
       "      <td>0.0</td>\n",
       "      <td>0.8</td>\n",
       "      <td>0.9</td>\n",
       "      <td>0.8</td>\n",
       "      <td>0.9</td>\n",
       "      <td>0.9</td>\n",
       "      <td>0.8</td>\n",
       "      <td>0.8</td>\n",
       "      <td>1.0</td>\n",
       "    </tr>\n",
       "    <tr>\n",
       "      <th>122341</th>\n",
       "      <td>0.2</td>\n",
       "      <td>0.3</td>\n",
       "      <td>0.2</td>\n",
       "      <td>0.7</td>\n",
       "      <td>0.4</td>\n",
       "      <td>0.3</td>\n",
       "      <td>0.3</td>\n",
       "      <td>0.8</td>\n",
       "      <td>0.5</td>\n",
       "      <td>0.6</td>\n",
       "      <td>0.7</td>\n",
       "      <td>0.3</td>\n",
       "      <td>0.2</td>\n",
       "      <td>0.1</td>\n",
       "      <td>0.3</td>\n",
       "      <td>0.1</td>\n",
       "      <td>0.4</td>\n",
       "      <td>0.4</td>\n",
       "      <td>0.2</td>\n",
       "      <td>0.6</td>\n",
       "    </tr>\n",
       "    <tr>\n",
       "      <th>131988</th>\n",
       "      <td>0.0</td>\n",
       "      <td>0.0</td>\n",
       "      <td>0.0</td>\n",
       "      <td>0.0</td>\n",
       "      <td>0.0</td>\n",
       "      <td>0.0</td>\n",
       "      <td>0.0</td>\n",
       "      <td>0.0</td>\n",
       "      <td>0.0</td>\n",
       "      <td>0.0</td>\n",
       "      <td>0.0</td>\n",
       "      <td>0.0</td>\n",
       "      <td>0.0</td>\n",
       "      <td>0.0</td>\n",
       "      <td>0.0</td>\n",
       "      <td>0.0</td>\n",
       "      <td>0.0</td>\n",
       "      <td>0.0</td>\n",
       "      <td>0.0</td>\n",
       "      <td>0.0</td>\n",
       "    </tr>\n",
       "    <tr>\n",
       "      <th>140590</th>\n",
       "      <td>0.3</td>\n",
       "      <td>0.6</td>\n",
       "      <td>0.5</td>\n",
       "      <td>0.8</td>\n",
       "      <td>0.6</td>\n",
       "      <td>0.8</td>\n",
       "      <td>0.8</td>\n",
       "      <td>0.9</td>\n",
       "      <td>0.5</td>\n",
       "      <td>0.8</td>\n",
       "      <td>0.9</td>\n",
       "      <td>0.7</td>\n",
       "      <td>0.3</td>\n",
       "      <td>0.4</td>\n",
       "      <td>0.6</td>\n",
       "      <td>0.5</td>\n",
       "      <td>0.7</td>\n",
       "      <td>0.7</td>\n",
       "      <td>0.5</td>\n",
       "      <td>0.7</td>\n",
       "    </tr>\n",
       "    <tr>\n",
       "      <th>147331</th>\n",
       "      <td>0.0</td>\n",
       "      <td>0.0</td>\n",
       "      <td>0.0</td>\n",
       "      <td>0.0</td>\n",
       "      <td>0.0</td>\n",
       "      <td>0.0</td>\n",
       "      <td>0.0</td>\n",
       "      <td>0.0</td>\n",
       "      <td>0.0</td>\n",
       "      <td>0.0</td>\n",
       "      <td>0.0</td>\n",
       "      <td>0.0</td>\n",
       "      <td>0.0</td>\n",
       "      <td>0.0</td>\n",
       "      <td>0.0</td>\n",
       "      <td>0.0</td>\n",
       "      <td>0.0</td>\n",
       "      <td>0.0</td>\n",
       "      <td>0.0</td>\n",
       "      <td>0.0</td>\n",
       "    </tr>\n",
       "    <tr>\n",
       "      <th>162615</th>\n",
       "      <td>1.0</td>\n",
       "      <td>1.0</td>\n",
       "      <td>1.0</td>\n",
       "      <td>1.0</td>\n",
       "      <td>1.0</td>\n",
       "      <td>1.0</td>\n",
       "      <td>1.0</td>\n",
       "      <td>1.0</td>\n",
       "      <td>1.0</td>\n",
       "      <td>1.0</td>\n",
       "      <td>1.0</td>\n",
       "      <td>1.0</td>\n",
       "      <td>1.0</td>\n",
       "      <td>1.0</td>\n",
       "      <td>1.0</td>\n",
       "      <td>1.0</td>\n",
       "      <td>1.0</td>\n",
       "      <td>1.0</td>\n",
       "      <td>1.0</td>\n",
       "      <td>1.0</td>\n",
       "    </tr>\n",
       "    <tr>\n",
       "      <th>173716</th>\n",
       "      <td>0.8</td>\n",
       "      <td>0.9</td>\n",
       "      <td>1.0</td>\n",
       "      <td>0.8</td>\n",
       "      <td>1.0</td>\n",
       "      <td>0.8</td>\n",
       "      <td>0.8</td>\n",
       "      <td>1.0</td>\n",
       "      <td>0.8</td>\n",
       "      <td>0.9</td>\n",
       "      <td>1.0</td>\n",
       "      <td>0.9</td>\n",
       "      <td>0.8</td>\n",
       "      <td>0.8</td>\n",
       "      <td>0.8</td>\n",
       "      <td>0.8</td>\n",
       "      <td>1.0</td>\n",
       "      <td>0.8</td>\n",
       "      <td>0.6</td>\n",
       "      <td>1.0</td>\n",
       "    </tr>\n",
       "    <tr>\n",
       "      <th>189037</th>\n",
       "      <td>0.8</td>\n",
       "      <td>0.9</td>\n",
       "      <td>0.7</td>\n",
       "      <td>0.7</td>\n",
       "      <td>0.9</td>\n",
       "      <td>0.9</td>\n",
       "      <td>0.7</td>\n",
       "      <td>0.8</td>\n",
       "      <td>1.0</td>\n",
       "      <td>0.7</td>\n",
       "      <td>1.0</td>\n",
       "      <td>0.8</td>\n",
       "      <td>0.8</td>\n",
       "      <td>0.7</td>\n",
       "      <td>0.9</td>\n",
       "      <td>0.6</td>\n",
       "      <td>0.7</td>\n",
       "      <td>0.7</td>\n",
       "      <td>0.7</td>\n",
       "      <td>0.8</td>\n",
       "    </tr>\n",
       "    <tr>\n",
       "      <th>222150</th>\n",
       "      <td>0.8</td>\n",
       "      <td>1.0</td>\n",
       "      <td>1.0</td>\n",
       "      <td>0.0</td>\n",
       "      <td>0.9</td>\n",
       "      <td>0.0</td>\n",
       "      <td>0.8</td>\n",
       "      <td>1.0</td>\n",
       "      <td>0.8</td>\n",
       "      <td>0.9</td>\n",
       "      <td>1.0</td>\n",
       "      <td>0.8</td>\n",
       "      <td>0.4</td>\n",
       "      <td>0.4</td>\n",
       "      <td>0.7</td>\n",
       "      <td>0.8</td>\n",
       "      <td>0.5</td>\n",
       "      <td>0.0</td>\n",
       "      <td>0.0</td>\n",
       "      <td>0.0</td>\n",
       "    </tr>\n",
       "    <tr>\n",
       "      <th>252520</th>\n",
       "      <td>0.9</td>\n",
       "      <td>1.0</td>\n",
       "      <td>1.0</td>\n",
       "      <td>0.8</td>\n",
       "      <td>0.6</td>\n",
       "      <td>0.0</td>\n",
       "      <td>0.9</td>\n",
       "      <td>0.9</td>\n",
       "      <td>0.8</td>\n",
       "      <td>0.7</td>\n",
       "      <td>0.9</td>\n",
       "      <td>0.0</td>\n",
       "      <td>0.9</td>\n",
       "      <td>1.0</td>\n",
       "      <td>0.0</td>\n",
       "      <td>1.0</td>\n",
       "      <td>0.9</td>\n",
       "      <td>0.8</td>\n",
       "      <td>0.9</td>\n",
       "      <td>1.0</td>\n",
       "    </tr>\n",
       "    <tr>\n",
       "      <th>269633</th>\n",
       "      <td>0.0</td>\n",
       "      <td>0.0</td>\n",
       "      <td>0.0</td>\n",
       "      <td>0.0</td>\n",
       "      <td>0.0</td>\n",
       "      <td>0.0</td>\n",
       "      <td>0.0</td>\n",
       "      <td>0.0</td>\n",
       "      <td>0.0</td>\n",
       "      <td>0.0</td>\n",
       "      <td>0.0</td>\n",
       "      <td>0.0</td>\n",
       "      <td>0.0</td>\n",
       "      <td>0.0</td>\n",
       "      <td>0.0</td>\n",
       "      <td>0.0</td>\n",
       "      <td>0.0</td>\n",
       "      <td>0.0</td>\n",
       "      <td>0.0</td>\n",
       "      <td>0.0</td>\n",
       "    </tr>\n",
       "    <tr>\n",
       "      <th>281232</th>\n",
       "      <td>0.0</td>\n",
       "      <td>0.0</td>\n",
       "      <td>0.0</td>\n",
       "      <td>0.0</td>\n",
       "      <td>0.0</td>\n",
       "      <td>0.0</td>\n",
       "      <td>0.0</td>\n",
       "      <td>0.0</td>\n",
       "      <td>0.0</td>\n",
       "      <td>0.0</td>\n",
       "      <td>0.0</td>\n",
       "      <td>0.0</td>\n",
       "      <td>0.0</td>\n",
       "      <td>0.0</td>\n",
       "      <td>0.0</td>\n",
       "      <td>0.0</td>\n",
       "      <td>0.0</td>\n",
       "      <td>0.0</td>\n",
       "      <td>0.0</td>\n",
       "      <td>0.0</td>\n",
       "    </tr>\n",
       "    <tr>\n",
       "      <th>283786</th>\n",
       "      <td>0.9</td>\n",
       "      <td>1.0</td>\n",
       "      <td>0.9</td>\n",
       "      <td>0.8</td>\n",
       "      <td>0.7</td>\n",
       "      <td>0.5</td>\n",
       "      <td>0.9</td>\n",
       "      <td>0.9</td>\n",
       "      <td>0.7</td>\n",
       "      <td>0.8</td>\n",
       "      <td>0.9</td>\n",
       "      <td>0.8</td>\n",
       "      <td>0.8</td>\n",
       "      <td>0.9</td>\n",
       "      <td>0.9</td>\n",
       "      <td>0.9</td>\n",
       "      <td>0.8</td>\n",
       "      <td>0.8</td>\n",
       "      <td>0.8</td>\n",
       "      <td>0.9</td>\n",
       "    </tr>\n",
       "    <tr>\n",
       "      <th>297931</th>\n",
       "      <td>0.0</td>\n",
       "      <td>0.0</td>\n",
       "      <td>0.0</td>\n",
       "      <td>0.0</td>\n",
       "      <td>0.0</td>\n",
       "      <td>0.0</td>\n",
       "      <td>0.0</td>\n",
       "      <td>0.0</td>\n",
       "      <td>0.0</td>\n",
       "      <td>0.0</td>\n",
       "      <td>0.0</td>\n",
       "      <td>0.0</td>\n",
       "      <td>0.0</td>\n",
       "      <td>0.0</td>\n",
       "      <td>0.0</td>\n",
       "      <td>0.8</td>\n",
       "      <td>0.0</td>\n",
       "      <td>0.0</td>\n",
       "      <td>0.0</td>\n",
       "      <td>0.9</td>\n",
       "    </tr>\n",
       "    <tr>\n",
       "      <th>312302</th>\n",
       "      <td>0.9</td>\n",
       "      <td>1.0</td>\n",
       "      <td>0.9</td>\n",
       "      <td>0.9</td>\n",
       "      <td>0.9</td>\n",
       "      <td>0.8</td>\n",
       "      <td>0.8</td>\n",
       "      <td>1.0</td>\n",
       "      <td>0.7</td>\n",
       "      <td>0.8</td>\n",
       "      <td>1.0</td>\n",
       "      <td>0.9</td>\n",
       "      <td>0.7</td>\n",
       "      <td>0.9</td>\n",
       "      <td>0.9</td>\n",
       "      <td>0.8</td>\n",
       "      <td>0.8</td>\n",
       "      <td>1.0</td>\n",
       "      <td>0.9</td>\n",
       "      <td>0.8</td>\n",
       "    </tr>\n",
       "  </tbody>\n",
       "</table>\n",
       "</div>"
      ],
      "text/plain": [
       "anime_id  226    1535   1575   2001   2167   4224   5081   5114   6547   \\\n",
       "user_id                                                                   \n",
       "20807       1.0    1.0    1.0    1.0    0.8    1.0    0.9    1.0    1.0   \n",
       "50485       0.0    0.6    1.0    1.0    0.9    1.0    1.0    1.0    1.0   \n",
       "63900       0.7    0.0    0.0    0.0    0.0    0.0    0.0    0.9    0.0   \n",
       "68042       0.8    1.0    0.9    1.0    0.7    0.9    1.0    0.9    0.7   \n",
       "85472       0.7    0.0    0.0    1.0    0.9    0.9    0.0    0.0    1.0   \n",
       "92529       0.9    0.9    1.0    1.0    0.0    0.8    0.0    0.9    0.9   \n",
       "122341      0.2    0.3    0.2    0.7    0.4    0.3    0.3    0.8    0.5   \n",
       "131988      0.0    0.0    0.0    0.0    0.0    0.0    0.0    0.0    0.0   \n",
       "140590      0.3    0.6    0.5    0.8    0.6    0.8    0.8    0.9    0.5   \n",
       "147331      0.0    0.0    0.0    0.0    0.0    0.0    0.0    0.0    0.0   \n",
       "162615      1.0    1.0    1.0    1.0    1.0    1.0    1.0    1.0    1.0   \n",
       "173716      0.8    0.9    1.0    0.8    1.0    0.8    0.8    1.0    0.8   \n",
       "189037      0.8    0.9    0.7    0.7    0.9    0.9    0.7    0.8    1.0   \n",
       "222150      0.8    1.0    1.0    0.0    0.9    0.0    0.8    1.0    0.8   \n",
       "252520      0.9    1.0    1.0    0.8    0.6    0.0    0.9    0.9    0.8   \n",
       "269633      0.0    0.0    0.0    0.0    0.0    0.0    0.0    0.0    0.0   \n",
       "281232      0.0    0.0    0.0    0.0    0.0    0.0    0.0    0.0    0.0   \n",
       "283786      0.9    1.0    0.9    0.8    0.7    0.5    0.9    0.9    0.7   \n",
       "297931      0.0    0.0    0.0    0.0    0.0    0.0    0.0    0.0    0.0   \n",
       "312302      0.9    1.0    0.9    0.9    0.9    0.8    0.8    1.0    0.7   \n",
       "\n",
       "anime_id  6746   9253   9989   10620  11757  15809  16498  19815  20507  \\\n",
       "user_id                                                                   \n",
       "20807       1.0    1.0    0.9    1.0    1.0    0.8    1.0    1.0    1.0   \n",
       "50485       0.9    1.0    0.9    0.6    1.0    1.0    0.9    1.0    1.0   \n",
       "63900       0.0    0.0    0.8    0.0    0.0    0.0    0.8    0.0    0.8   \n",
       "68042       0.8    0.9    0.8    0.4    0.4    0.6    0.9    0.3    0.2   \n",
       "85472       0.0    0.8    0.0    0.8    0.9    0.8    0.8    0.7    0.7   \n",
       "92529       0.0    1.0    0.0    0.8    0.9    0.8    0.9    0.9    0.8   \n",
       "122341      0.6    0.7    0.3    0.2    0.1    0.3    0.1    0.4    0.4   \n",
       "131988      0.0    0.0    0.0    0.0    0.0    0.0    0.0    0.0    0.0   \n",
       "140590      0.8    0.9    0.7    0.3    0.4    0.6    0.5    0.7    0.7   \n",
       "147331      0.0    0.0    0.0    0.0    0.0    0.0    0.0    0.0    0.0   \n",
       "162615      1.0    1.0    1.0    1.0    1.0    1.0    1.0    1.0    1.0   \n",
       "173716      0.9    1.0    0.9    0.8    0.8    0.8    0.8    1.0    0.8   \n",
       "189037      0.7    1.0    0.8    0.8    0.7    0.9    0.6    0.7    0.7   \n",
       "222150      0.9    1.0    0.8    0.4    0.4    0.7    0.8    0.5    0.0   \n",
       "252520      0.7    0.9    0.0    0.9    1.0    0.0    1.0    0.9    0.8   \n",
       "269633      0.0    0.0    0.0    0.0    0.0    0.0    0.0    0.0    0.0   \n",
       "281232      0.0    0.0    0.0    0.0    0.0    0.0    0.0    0.0    0.0   \n",
       "283786      0.8    0.9    0.8    0.8    0.9    0.9    0.9    0.8    0.8   \n",
       "297931      0.0    0.0    0.0    0.0    0.0    0.0    0.8    0.0    0.0   \n",
       "312302      0.8    1.0    0.9    0.7    0.9    0.9    0.8    0.8    1.0   \n",
       "\n",
       "anime_id  22319  30276  \n",
       "user_id                 \n",
       "20807       1.0    1.0  \n",
       "50485       1.0    0.8  \n",
       "63900       0.8    0.8  \n",
       "68042       0.5    0.9  \n",
       "85472       0.7    0.9  \n",
       "92529       0.8    1.0  \n",
       "122341      0.2    0.6  \n",
       "131988      0.0    0.0  \n",
       "140590      0.5    0.7  \n",
       "147331      0.0    0.0  \n",
       "162615      1.0    1.0  \n",
       "173716      0.6    1.0  \n",
       "189037      0.7    0.8  \n",
       "222150      0.0    0.0  \n",
       "252520      0.9    1.0  \n",
       "269633      0.0    0.0  \n",
       "281232      0.0    0.0  \n",
       "283786      0.8    0.9  \n",
       "297931      0.0    0.9  \n",
       "312302      0.9    0.8  "
      ]
     },
     "execution_count": 42,
     "metadata": {},
     "output_type": "execute_result"
    }
   ],
   "source": [
    "g = rating_df.groupby('user_id')['rating'].count()\n",
    "top_users = g.dropna().sort_values(ascending=False)[:20]\n",
    "top_r = rating_df.join(top_users, rsuffix='_r', how='inner', on='user_id')\n",
    "\n",
    "g = rating_df.groupby('anime_id')['rating'].count()\n",
    "top_animes = g.dropna().sort_values(ascending=False)[:20]\n",
    "top_r = top_r.join(top_animes, rsuffix='_r', how='inner', on='anime_id')\n",
    "\n",
    "pd.crosstab(top_r.user_id, top_r.anime_id, top_r.rating, aggfunc=np.sum)"
   ]
  },
  {
   "cell_type": "markdown",
   "metadata": {},
   "source": [
    "## **Data Preprocessing**"
   ]
  },
  {
   "cell_type": "code",
   "execution_count": 43,
   "metadata": {
    "execution": {
     "iopub.execute_input": "2021-11-19T20:59:29.022529Z",
     "iopub.status.busy": "2021-11-19T20:59:29.022304Z",
     "iopub.status.idle": "2021-11-19T20:59:52.563308Z",
     "shell.execute_reply": "2021-11-19T20:59:52.562455Z",
     "shell.execute_reply.started": "2021-11-19T20:59:29.022503Z"
    }
   },
   "outputs": [
    {
     "name": "stdout",
     "output_type": "stream",
     "text": [
      "Num of users: 91641, Num of animes: 17560\n",
      "Min rating: 0.0, Max rating: 1.0\n"
     ]
    }
   ],
   "source": [
    "# Encoding categorical data\n",
    "user_ids = rating_df[\"user_id\"].unique().tolist()\n",
    "user2user_encoded = {x: i for i, x in enumerate(user_ids)}\n",
    "user_encoded2user = {i: x for i, x in enumerate(user_ids)}\n",
    "rating_df[\"user\"] = rating_df[\"user_id\"].map(user2user_encoded)\n",
    "n_users = len(user2user_encoded)\n",
    "\n",
    "anime_ids = rating_df[\"anime_id\"].unique().tolist()\n",
    "anime2anime_encoded = {x: i for i, x in enumerate(anime_ids)}\n",
    "anime_encoded2anime = {i: x for i, x in enumerate(anime_ids)}\n",
    "rating_df[\"anime\"] = rating_df[\"anime_id\"].map(anime2anime_encoded)\n",
    "n_animes = len(anime2anime_encoded)\n",
    "\n",
    "print(\"Num of users: {}, Num of animes: {}\".format(n_users, n_animes))\n",
    "print(\"Min rating: {}, Max rating: {}\".format(min(rating_df['rating']), max(rating_df['rating'])))"
   ]
  },
  {
   "cell_type": "code",
   "execution_count": 44,
   "metadata": {
    "execution": {
     "iopub.execute_input": "2021-11-19T20:59:52.564752Z",
     "iopub.status.busy": "2021-11-19T20:59:52.564479Z",
     "iopub.status.idle": "2021-11-19T21:00:07.045924Z",
     "shell.execute_reply": "2021-11-19T21:00:07.044865Z",
     "shell.execute_reply.started": "2021-11-19T20:59:52.564722Z"
    }
   },
   "outputs": [
    {
     "name": "stdout",
     "output_type": "stream",
     "text": [
      "1319\n"
     ]
    }
   ],
   "source": [
    "we_ids = rating_df[\"watched_episodes\"].unique().tolist()\n",
    "we2we_encoded = {x: i for i, x in enumerate(we_ids)}\n",
    "n_we = len(we2we_encoded)\n",
    "print(n_we)"
   ]
  },
  {
   "cell_type": "code",
   "execution_count": 45,
   "metadata": {
    "execution": {
     "iopub.execute_input": "2021-11-19T21:00:07.04752Z",
     "iopub.status.busy": "2021-11-19T21:00:07.047294Z",
     "iopub.status.idle": "2021-11-19T21:00:07.054776Z",
     "shell.execute_reply": "2021-11-19T21:00:07.053887Z",
     "shell.execute_reply.started": "2021-11-19T21:00:07.047485Z"
    }
   },
   "outputs": [
    {
     "name": "stdout",
     "output_type": "stream",
     "text": [
      "9\n"
     ]
    }
   ],
   "source": [
    "ws_ids = rating_df[\"watching_status\"].unique().tolist()\n",
    "ws2ws_encoded = {x: i for i, x in enumerate(ws_ids)}\n",
    "n_ws = len(ws2ws_encoded)\n",
    "print(n_ws)"
   ]
  },
  {
   "cell_type": "code",
   "execution_count": 46,
   "metadata": {
    "execution": {
     "iopub.execute_input": "2021-11-19T21:00:07.056191Z",
     "iopub.status.busy": "2021-11-19T21:00:07.055912Z",
     "iopub.status.idle": "2021-11-19T21:00:07.066223Z",
     "shell.execute_reply": "2021-11-19T21:00:07.065355Z",
     "shell.execute_reply.started": "2021-11-19T21:00:07.056165Z"
    }
   },
   "outputs": [
    {
     "name": "stdout",
     "output_type": "stream",
     "text": [
      "71418113\n"
     ]
    }
   ],
   "source": [
    "rating_df = rating_df.sample(frac=1, random_state=73)\n",
    "\n",
    "X = rating_df[['user', 'anime','watching_status','watched_episodes']].values\n",
    "y = rating_df[\"rating\"]\n",
    "print(rating_df.shape[0])"
   ]
  },
  {
   "cell_type": "code",
   "execution_count": null,
   "metadata": {
    "execution": {
     "iopub.execute_input": "2021-11-19T21:00:19.236633Z",
     "iopub.status.busy": "2021-11-19T21:00:19.236404Z",
     "iopub.status.idle": "2021-11-19T21:00:19.247521Z",
     "shell.execute_reply": "2021-11-19T21:00:19.246495Z",
     "shell.execute_reply.started": "2021-11-19T21:00:19.236607Z"
    }
   },
   "outputs": [],
   "source": []
  },
  {
   "cell_type": "code",
   "execution_count": null,
   "metadata": {
    "execution": {
     "iopub.execute_input": "2021-11-19T21:00:19.248911Z",
     "iopub.status.busy": "2021-11-19T21:00:19.248698Z",
     "iopub.status.idle": "2021-11-19T21:11:01.916902Z",
     "shell.execute_reply": "2021-11-19T21:11:01.913756Z",
     "shell.execute_reply.started": "2021-11-19T21:00:19.248887Z"
    }
   },
   "outputs": [],
   "source": []
  },
  {
   "cell_type": "code",
   "execution_count": null,
   "metadata": {
    "execution": {
     "iopub.execute_input": "2021-11-19T21:11:01.919183Z",
     "iopub.status.busy": "2021-11-19T21:11:01.918857Z",
     "iopub.status.idle": "2021-11-19T21:11:02.217429Z",
     "shell.execute_reply": "2021-11-19T21:11:02.216605Z",
     "shell.execute_reply.started": "2021-11-19T21:11:01.919149Z"
    }
   },
   "outputs": [],
   "source": []
  },
  {
   "cell_type": "markdown",
   "metadata": {},
   "source": [
    "## **Extracting weights from model**"
   ]
  },
  {
   "cell_type": "code",
   "execution_count": 9,
   "metadata": {},
   "outputs": [],
   "source": [
    "import tensorflow as tf"
   ]
  },
  {
   "cell_type": "code",
   "execution_count": 14,
   "metadata": {},
   "outputs": [],
   "source": [
    "model = tf.keras.models.load_model('./DL.h5')"
   ]
  },
  {
   "cell_type": "code",
   "execution_count": 47,
   "metadata": {
    "execution": {
     "iopub.execute_input": "2021-11-19T21:11:02.219844Z",
     "iopub.status.busy": "2021-11-19T21:11:02.218934Z",
     "iopub.status.idle": "2021-11-19T21:11:02.432156Z",
     "shell.execute_reply": "2021-11-19T21:11:02.431166Z",
     "shell.execute_reply.started": "2021-11-19T21:11:02.219803Z"
    }
   },
   "outputs": [],
   "source": [
    "def extract_weights(name, model):\n",
    "    weight_layer = model.get_layer(name)\n",
    "    weights = weight_layer.get_weights()[0]\n",
    "    weights = weights / np.linalg.norm(weights, axis = 1).reshape((-1, 1))\n",
    "    return weights\n",
    "\n",
    "anime_weights = extract_weights('anime_embedding', model)\n",
    "user_weights = extract_weights('user_embedding', model)\n",
    "ws_weights = extract_weights('status_embedding', model)\n",
    "we_weights = extract_weights('episode_embedding', model)"
   ]
  },
  {
   "cell_type": "code",
   "execution_count": null,
   "metadata": {},
   "outputs": [],
   "source": []
  },
  {
   "cell_type": "markdown",
   "metadata": {},
   "source": [
    "### **anime meta data**"
   ]
  },
  {
   "cell_type": "code",
   "execution_count": 16,
   "metadata": {
    "execution": {
     "iopub.execute_input": "2021-11-19T21:11:02.433452Z",
     "iopub.status.busy": "2021-11-19T21:11:02.433242Z",
     "iopub.status.idle": "2021-11-19T21:11:02.761842Z",
     "shell.execute_reply": "2021-11-19T21:11:02.760896Z",
     "shell.execute_reply.started": "2021-11-19T21:11:02.433428Z"
    }
   },
   "outputs": [],
   "source": [
    "df = pd.read_csv( './anime.csv', low_memory=True)\n",
    "df = df.replace(\"Unknown\", np.nan)"
   ]
  },
  {
   "cell_type": "code",
   "execution_count": 17,
   "metadata": {
    "execution": {
     "iopub.execute_input": "2021-11-19T21:11:02.76361Z",
     "iopub.status.busy": "2021-11-19T21:11:02.763192Z",
     "iopub.status.idle": "2021-11-19T21:11:15.288999Z",
     "shell.execute_reply": "2021-11-19T21:11:15.287973Z",
     "shell.execute_reply.started": "2021-11-19T21:11:02.76355Z"
    }
   },
   "outputs": [],
   "source": [
    "# Fixing Names\n",
    "def getAnimeName(anime_id):\n",
    "    try:\n",
    "        name = df[df.anime_id == anime_id].eng_version.values[0]\n",
    "        if name is np.nan:\n",
    "            name = df[df.anime_id == anime_id].Name.values[0]\n",
    "    except:\n",
    "        print('error')\n",
    "    \n",
    "    return name\n",
    "\n",
    "df['anime_id'] = df['MAL_ID']\n",
    "df[\"eng_version\"] = df['English name']\n",
    "df['eng_version'] = df.anime_id.apply(lambda x: getAnimeName(x))\n",
    "\n",
    "df.sort_values(by=['Score'], \n",
    "               inplace=True,\n",
    "               ascending=False, \n",
    "               kind='quicksort',\n",
    "               na_position='last')\n",
    "\n",
    "df = df[[\"anime_id\", \"eng_version\", \n",
    "         \"Score\", \"Genres\", \"Episodes\", \n",
    "         \"Type\", \"Premiered\", \"Members\"]]"
   ]
  },
  {
   "cell_type": "code",
   "execution_count": 18,
   "metadata": {
    "execution": {
     "iopub.execute_input": "2021-11-19T21:11:15.290786Z",
     "iopub.status.busy": "2021-11-19T21:11:15.290308Z",
     "iopub.status.idle": "2021-11-19T21:11:15.295857Z",
     "shell.execute_reply": "2021-11-19T21:11:15.295036Z",
     "shell.execute_reply.started": "2021-11-19T21:11:15.290744Z"
    }
   },
   "outputs": [],
   "source": [
    "def getAnimeFrame(anime):\n",
    "    if isinstance(anime, int):\n",
    "        return df[df.anime_id == anime]\n",
    "    if isinstance(anime, str):\n",
    "        return df[df.eng_version == anime]"
   ]
  },
  {
   "cell_type": "markdown",
   "metadata": {},
   "source": [
    "### **synopsis data**"
   ]
  },
  {
   "cell_type": "code",
   "execution_count": 19,
   "metadata": {
    "execution": {
     "iopub.execute_input": "2021-11-19T21:11:15.297262Z",
     "iopub.status.busy": "2021-11-19T21:11:15.297052Z",
     "iopub.status.idle": "2021-11-19T21:11:15.555447Z",
     "shell.execute_reply": "2021-11-19T21:11:15.554613Z",
     "shell.execute_reply.started": "2021-11-19T21:11:15.297238Z"
    }
   },
   "outputs": [],
   "source": [
    "cols = [\"MAL_ID\", \"Name\", \"Genres\", \"sypnopsis\"]\n",
    "sypnopsis_df = pd.read_csv('./anime_with_synopsis.csv', usecols=cols)\n",
    "\n",
    "def getSypnopsis(anime):\n",
    "    if isinstance(anime, int):\n",
    "        return sypnopsis_df[sypnopsis_df.MAL_ID == anime].sypnopsis.values[0]\n",
    "    if isinstance(anime, str):\n",
    "        return sypnopsis_df[sypnopsis_df.Name == anime].sypnopsis.values[0]"
   ]
  },
  {
   "cell_type": "markdown",
   "metadata": {},
   "source": [
    "# Finding Similar Animes (Content Based Recommendation)"
   ]
  },
  {
   "cell_type": "code",
   "execution_count": 22,
   "metadata": {
    "execution": {
     "iopub.execute_input": "2021-11-19T21:11:15.557081Z",
     "iopub.status.busy": "2021-11-19T21:11:15.556859Z",
     "iopub.status.idle": "2021-11-19T21:11:15.569449Z",
     "shell.execute_reply": "2021-11-19T21:11:15.568579Z",
     "shell.execute_reply.started": "2021-11-19T21:11:15.557056Z"
    }
   },
   "outputs": [],
   "source": [
    "#pd.reset_option('all')\n",
    "pd.set_option(\"max_colwidth\", None)\n",
    "\n",
    "def find_similar_animes(name, n=10, return_dist=False, neg=False):\n",
    "    try:\n",
    "        index = getAnimeFrame(name).anime_id.values[0]\n",
    "        encoded_index = anime2anime_encoded.get(index)\n",
    "        weights = anime_weights\n",
    "        \n",
    "        dists = np.dot(weights, weights[encoded_index])\n",
    "        sorted_dists = np.argsort(dists)\n",
    "        \n",
    "        n = n + 1            \n",
    "        \n",
    "        if neg:\n",
    "            closest = sorted_dists[:n]\n",
    "        else:\n",
    "            closest = sorted_dists[-n:]\n",
    "\n",
    "        print('animes closest to {}'.format(name))\n",
    "\n",
    "        if return_dist:\n",
    "            return dists, closest\n",
    "        \n",
    "        rindex = df\n",
    "\n",
    "        SimilarityArr = []\n",
    "\n",
    "        for close in closest:\n",
    "            decoded_id = anime_encoded2anime.get(close)\n",
    "            sypnopsis = getSypnopsis(decoded_id)\n",
    "            anime_frame = getAnimeFrame(decoded_id)\n",
    "            \n",
    "            anime_name = anime_frame.eng_version.values[0]\n",
    "            genre = anime_frame.Genres.values[0]\n",
    "            similarity = dists[close]\n",
    "            SimilarityArr.append({\"anime_id\": decoded_id, \"name\": anime_name,\n",
    "                                  \"similarity\": similarity,\"genres\": genre,\n",
    "                                  'sypnopsis': sypnopsis})\n",
    "\n",
    "        Frame = pd.DataFrame(SimilarityArr).sort_values(by=\"similarity\", ascending=False)\n",
    "        return Frame[Frame.anime_id != index].drop(['anime_id'], axis=1)\n",
    "\n",
    "    except:\n",
    "        print('{}!, Not Found in Anime list'.format(name))"
   ]
  },
  {
   "cell_type": "markdown",
   "metadata": {},
   "source": [
    "### **find animes similar to your fav**"
   ]
  },
  {
   "cell_type": "code",
   "execution_count": 23,
   "metadata": {
    "execution": {
     "iopub.execute_input": "2021-11-19T21:11:15.571096Z",
     "iopub.status.busy": "2021-11-19T21:11:15.57087Z",
     "iopub.status.idle": "2021-11-19T21:11:15.633362Z",
     "shell.execute_reply": "2021-11-19T21:11:15.632403Z",
     "shell.execute_reply.started": "2021-11-19T21:11:15.571071Z"
    }
   },
   "outputs": [
    {
     "name": "stdout",
     "output_type": "stream",
     "text": [
      "animes closest to Sword Art Online\n"
     ]
    },
    {
     "data": {
      "text/html": [
       "<div>\n",
       "<style scoped>\n",
       "    .dataframe tbody tr th:only-of-type {\n",
       "        vertical-align: middle;\n",
       "    }\n",
       "\n",
       "    .dataframe tbody tr th {\n",
       "        vertical-align: top;\n",
       "    }\n",
       "\n",
       "    .dataframe thead th {\n",
       "        text-align: right;\n",
       "    }\n",
       "</style>\n",
       "<table border=\"1\" class=\"dataframe\">\n",
       "  <thead>\n",
       "    <tr style=\"text-align: right;\">\n",
       "      <th></th>\n",
       "      <th>name</th>\n",
       "      <th>similarity</th>\n",
       "      <th>genres</th>\n",
       "      <th>sypnopsis</th>\n",
       "    </tr>\n",
       "  </thead>\n",
       "  <tbody>\n",
       "    <tr>\n",
       "      <th>4</th>\n",
       "      <td>The Future Diary</td>\n",
       "      <td>0.787074</td>\n",
       "      <td>Action, Mystery, Psychological, Shounen, Supernatural, Thriller</td>\n",
       "      <td>onely high school student, Yukiteru Amano, spends his days writing a diary on his cellphone, while conversing with his two seemingly imaginary friends Deus Ex Machina, who is the god of time and space, and Murmur, the god's servant. Revealing himself to be an actual entity, Deus grants Yukiteru a \"Random Diary,\" which shows highly descriptive entries based on the future and forces him into a bloody battle royale with 11 other holders of similarly powerful future diaries. With the last person standing designated as the new god of time and space, Yukiteru must find and kill the other 11 in order to survive. He reluctantly teams up with his obsessive stalker Yuno Gasai (who also possesses such a diary), and she takes it upon herself to ensure his safety. But there's more to the girl than meets the eye, as she might have other plans for her unrequited love...</td>\n",
       "    </tr>\n",
       "    <tr>\n",
       "      <th>3</th>\n",
       "      <td>Sword Art Online II</td>\n",
       "      <td>0.733021</td>\n",
       "      <td>Action, Game, Adventure, Romance, Fantasy</td>\n",
       "      <td>ar after escaping Sword Art Online, Kazuto Kirigaya has been settling back into the real world. However, his peace is short-lived as a new incident occurs in a game called Gun Gale Online, where a player by the name of Death Gun appears to be killing people in the real world by shooting them in-game. Approached by officials to assist in investigating the murders, Kazuto assumes his persona of Kirito once again and logs into Gun Gale Online, intent on stopping the killer. Once inside, Kirito meets Sinon, a highly skilled sniper afflicted by a traumatic past. She is soon dragged in his chase after Death Gun, and together they enter the Bullet of Bullets, a tournament where their target is sure to appear. Uncertain of Death Gun's real powers, Kirito and Sinon race to stop him before he has the chance to claim another life. Not everything goes smoothly, however, as scars from the past impede their progress. In a high-stakes game where the next victim could easily be one of them, Kirito puts his life on the line in the virtual world once more.</td>\n",
       "    </tr>\n",
       "    <tr>\n",
       "      <th>2</th>\n",
       "      <td>The Irregular at Magic High School</td>\n",
       "      <td>0.705621</td>\n",
       "      <td>Action, Sci-Fi, Supernatural, Magic, Romance, School</td>\n",
       "      <td>In the dawn of the 21st century, magic, long thought to be folklore and fairy tales, has become a systematized technology and is taught as a technical skill. In First High School, the institution for magicians, students are segregated into two groups based on their entrance exam scores: \"Blooms,\" those who receive high scores, are assigned to the First Course, while \"Weeds\" are reserve students assigned to the Second Course. Mahouka Koukou no Rettousei follows the siblings, Tatsuya and Miyuki Shiba, who are enrolled in First High School. Upon taking the exam, the prodigious Miyuki is placed in the First Course, while Tatsuya is relegated to the Second Course. Though his practical test scores and status as a \"Weed\" show him to be magically inept, he possesses extraordinary technical knowledge, physical combat capabilities, and unique magic techniques—making Tatsuya the irregular at a magical high school.</td>\n",
       "    </tr>\n",
       "    <tr>\n",
       "      <th>1</th>\n",
       "      <td>Guilty Crown</td>\n",
       "      <td>0.700390</td>\n",
       "      <td>Action, Sci-Fi, Super Power, Drama, Romance, Mecha</td>\n",
       "      <td>Japan, 2039. Ten years after the outbreak of the \"Apocalypse Virus,\" an event solemnly regarded as \"Lost Christmas,\" the once proud nation has fallen under the rule of the GHQ, an independent military force dedicated to restoring order. Funeral Parlor, a guerilla group led by the infamous Gai Tsutsugami, act as freedom fighters, offering the only resistance to GHQ's cruel despotism. Inori Yuzuriha, a key member of Funeral Parlor, runs into the weak and unsociable Shuu Ouma during a crucial operation, which results in him obtaining the \"Power of Kings\"—an ability which allows the wielder to draw out the manifestations of an individual's personality, or \"voids.\" Now an unwilling participant in the struggle against GHQ, Shuu must learn to control his newfound power if he is to help take back Japan once and for all. Guilty Crown follows the action-packed story of a young high school student who is dragged into a war, possessing an ability that will help him uncover the secrets of the GHQ, Funeral Parlor, and Lost Christmas. However, he will soon learn that the truth comes at a far greater price than he could have ever imagined.</td>\n",
       "    </tr>\n",
       "    <tr>\n",
       "      <th>0</th>\n",
       "      <td>No Game, No Life</td>\n",
       "      <td>0.681011</td>\n",
       "      <td>Game, Adventure, Comedy, Supernatural, Ecchi, Fantasy</td>\n",
       "      <td>No Game No Life is a surreal comedy that follows Sora and Shiro, shut-in NEET siblings and the online gamer duo behind the legendary username \"Blank.\" They view the real world as just another lousy game; however, a strange e-mail challenging them to a chess match changes everything—the brother and sister are plunged into an otherworldly realm where they meet Tet, the God of Games. The mysterious god welcomes Sora and Shiro to Disboard, a world where all forms of conflict—from petty squabbles to the fate of whole countries—are settled not through war, but by way of high-stake games. This system works thanks to a fundamental rule wherein each party must wager something they deem to be of equal value to the other party's wager. In this strange land where the very idea of humanity is reduced to child's play, the indifferent genius gamer duo of Sora and Shiro have finally found a real reason to keep playing games: to unite the sixteen races of Disboard, defeat Tet, and become the gods of this new, gaming-is-everything world.</td>\n",
       "    </tr>\n",
       "  </tbody>\n",
       "</table>\n",
       "</div>"
      ],
      "text/plain": [
       "                                 name  similarity  \\\n",
       "4                    The Future Diary    0.787074   \n",
       "3                 Sword Art Online II    0.733021   \n",
       "2  The Irregular at Magic High School    0.705621   \n",
       "1                        Guilty Crown    0.700390   \n",
       "0                    No Game, No Life    0.681011   \n",
       "\n",
       "                                                            genres  \\\n",
       "4  Action, Mystery, Psychological, Shounen, Supernatural, Thriller   \n",
       "3                        Action, Game, Adventure, Romance, Fantasy   \n",
       "2             Action, Sci-Fi, Supernatural, Magic, Romance, School   \n",
       "1               Action, Sci-Fi, Super Power, Drama, Romance, Mecha   \n",
       "0            Game, Adventure, Comedy, Supernatural, Ecchi, Fantasy   \n",
       "\n",
       "                                                                                                                                                                                                                                                                                                                                                                                                                                                                                                                                                                                                                                                                                                                                                                                                                                                                                                                                                                                                                                                                                                                                                                               sypnopsis  \n",
       "4                                                                                                                                                                                                                                                                                    onely high school student, Yukiteru Amano, spends his days writing a diary on his cellphone, while conversing with his two seemingly imaginary friends Deus Ex Machina, who is the god of time and space, and Murmur, the god's servant. Revealing himself to be an actual entity, Deus grants Yukiteru a \"Random Diary,\" which shows highly descriptive entries based on the future and forces him into a bloody battle royale with 11 other holders of similarly powerful future diaries. With the last person standing designated as the new god of time and space, Yukiteru must find and kill the other 11 in order to survive. He reluctantly teams up with his obsessive stalker Yuno Gasai (who also possesses such a diary), and she takes it upon herself to ensure his safety. But there's more to the girl than meets the eye, as she might have other plans for her unrequited love...  \n",
       "3                                                                                         ar after escaping Sword Art Online, Kazuto Kirigaya has been settling back into the real world. However, his peace is short-lived as a new incident occurs in a game called Gun Gale Online, where a player by the name of Death Gun appears to be killing people in the real world by shooting them in-game. Approached by officials to assist in investigating the murders, Kazuto assumes his persona of Kirito once again and logs into Gun Gale Online, intent on stopping the killer. Once inside, Kirito meets Sinon, a highly skilled sniper afflicted by a traumatic past. She is soon dragged in his chase after Death Gun, and together they enter the Bullet of Bullets, a tournament where their target is sure to appear. Uncertain of Death Gun's real powers, Kirito and Sinon race to stop him before he has the chance to claim another life. Not everything goes smoothly, however, as scars from the past impede their progress. In a high-stakes game where the next victim could easily be one of them, Kirito puts his life on the line in the virtual world once more.  \n",
       "2                                                                                                                                                                                                                                   In the dawn of the 21st century, magic, long thought to be folklore and fairy tales, has become a systematized technology and is taught as a technical skill. In First High School, the institution for magicians, students are segregated into two groups based on their entrance exam scores: \"Blooms,\" those who receive high scores, are assigned to the First Course, while \"Weeds\" are reserve students assigned to the Second Course. Mahouka Koukou no Rettousei follows the siblings, Tatsuya and Miyuki Shiba, who are enrolled in First High School. Upon taking the exam, the prodigious Miyuki is placed in the First Course, while Tatsuya is relegated to the Second Course. Though his practical test scores and status as a \"Weed\" show him to be magically inept, he possesses extraordinary technical knowledge, physical combat capabilities, and unique magic techniques—making Tatsuya the irregular at a magical high school.  \n",
       "1  Japan, 2039. Ten years after the outbreak of the \"Apocalypse Virus,\" an event solemnly regarded as \"Lost Christmas,\" the once proud nation has fallen under the rule of the GHQ, an independent military force dedicated to restoring order. Funeral Parlor, a guerilla group led by the infamous Gai Tsutsugami, act as freedom fighters, offering the only resistance to GHQ's cruel despotism. Inori Yuzuriha, a key member of Funeral Parlor, runs into the weak and unsociable Shuu Ouma during a crucial operation, which results in him obtaining the \"Power of Kings\"—an ability which allows the wielder to draw out the manifestations of an individual's personality, or \"voids.\" Now an unwilling participant in the struggle against GHQ, Shuu must learn to control his newfound power if he is to help take back Japan once and for all. Guilty Crown follows the action-packed story of a young high school student who is dragged into a war, possessing an ability that will help him uncover the secrets of the GHQ, Funeral Parlor, and Lost Christmas. However, he will soon learn that the truth comes at a far greater price than he could have ever imagined.  \n",
       "0                                                                                                            No Game No Life is a surreal comedy that follows Sora and Shiro, shut-in NEET siblings and the online gamer duo behind the legendary username \"Blank.\" They view the real world as just another lousy game; however, a strange e-mail challenging them to a chess match changes everything—the brother and sister are plunged into an otherworldly realm where they meet Tet, the God of Games. The mysterious god welcomes Sora and Shiro to Disboard, a world where all forms of conflict—from petty squabbles to the fate of whole countries—are settled not through war, but by way of high-stake games. This system works thanks to a fundamental rule wherein each party must wager something they deem to be of equal value to the other party's wager. In this strange land where the very idea of humanity is reduced to child's play, the indifferent genius gamer duo of Sora and Shiro have finally found a real reason to keep playing games: to unite the sixteen races of Disboard, defeat Tet, and become the gods of this new, gaming-is-everything world.  "
      ]
     },
     "execution_count": 23,
     "metadata": {},
     "output_type": "execute_result"
    }
   ],
   "source": [
    "find_similar_animes('Cowboy Bebop', n=5, neg=False)"
   ]
  },
  {
   "cell_type": "markdown",
   "metadata": {},
   "source": [
    "# Finding Similar Users (User Based Recommendation)"
   ]
  },
  {
   "cell_type": "code",
   "execution_count": 25,
   "metadata": {
    "execution": {
     "iopub.execute_input": "2021-11-19T21:11:15.78044Z",
     "iopub.status.busy": "2021-11-19T21:11:15.779869Z",
     "iopub.status.idle": "2021-11-19T21:11:19.039183Z",
     "shell.execute_reply": "2021-11-19T21:11:19.038282Z",
     "shell.execute_reply.started": "2021-11-19T21:11:15.780386Z"
    }
   },
   "outputs": [
    {
     "name": "stdout",
     "output_type": "stream",
     "text": [
      "picking up random user\n",
      "user_id: 330601\n"
     ]
    }
   ],
   "source": [
    "print('picking up random user')\n",
    "ratings_per_user = rating_df.groupby('user_id').size()\n",
    "random_user = ratings_per_user[ratings_per_user < 500].sample(1, random_state=None).index[0]\n",
    "print('user_id:', random_user)"
   ]
  },
  {
   "cell_type": "code",
   "execution_count": 28,
   "metadata": {
    "execution": {
     "iopub.execute_input": "2021-11-19T21:11:19.040696Z",
     "iopub.status.busy": "2021-11-19T21:11:19.040465Z",
     "iopub.status.idle": "2021-11-19T21:11:19.050723Z",
     "shell.execute_reply": "2021-11-19T21:11:19.050026Z",
     "shell.execute_reply.started": "2021-11-19T21:11:19.040669Z"
    }
   },
   "outputs": [],
   "source": [
    "#pd.reset_option('all')\n",
    "pd.set_option(\"max_colwidth\", None)\n",
    "\n",
    "def find_similar_users(item_input, n=10,return_dist=False, neg=False):\n",
    "    try:\n",
    "        index = item_input\n",
    "        encoded_index = user2user_encoded.get(index)\n",
    "        weights = user_weights\n",
    "    \n",
    "        dists = np.dot(weights, weights[encoded_index])\n",
    "        sorted_dists = np.argsort(dists)\n",
    "        \n",
    "        n = n + 1\n",
    "        \n",
    "        if neg:\n",
    "            closest = sorted_dists[:n]\n",
    "        else:\n",
    "            closest = sorted_dists[-n:]\n",
    "\n",
    "        print('users similar to #{}'.format(item_input))\n",
    "\n",
    "        if return_dist:\n",
    "            return dists, closest\n",
    "        \n",
    "        rindex = df\n",
    "        SimilarityArr = []\n",
    "        \n",
    "        for close in closest:\n",
    "            similarity = dists[close]\n",
    "\n",
    "            if isinstance(item_input, int):\n",
    "                decoded_id = user_encoded2user.get(close)\n",
    "                SimilarityArr.append({\"similar_users\": decoded_id, \n",
    "                                      \"similarity\": similarity})\n",
    "\n",
    "        Frame = pd.DataFrame(SimilarityArr).sort_values(by=\"similarity\", \n",
    "                                                        ascending=False)\n",
    "        \n",
    "        return Frame\n",
    "    \n",
    "    except:\n",
    "        print('{}!, Not Found in User list'.format(name))"
   ]
  },
  {
   "cell_type": "code",
   "execution_count": 29,
   "metadata": {
    "execution": {
     "iopub.execute_input": "2021-11-19T21:11:19.052226Z",
     "iopub.status.busy": "2021-11-19T21:11:19.051991Z",
     "iopub.status.idle": "2021-11-19T21:11:19.100527Z",
     "shell.execute_reply": "2021-11-19T21:11:19.099664Z",
     "shell.execute_reply.started": "2021-11-19T21:11:19.052199Z"
    }
   },
   "outputs": [
    {
     "name": "stdout",
     "output_type": "stream",
     "text": [
      "users similar to #330601\n"
     ]
    },
    {
     "data": {
      "text/html": [
       "<div>\n",
       "<style scoped>\n",
       "    .dataframe tbody tr th:only-of-type {\n",
       "        vertical-align: middle;\n",
       "    }\n",
       "\n",
       "    .dataframe tbody tr th {\n",
       "        vertical-align: top;\n",
       "    }\n",
       "\n",
       "    .dataframe thead th {\n",
       "        text-align: right;\n",
       "    }\n",
       "</style>\n",
       "<table border=\"1\" class=\"dataframe\">\n",
       "  <thead>\n",
       "    <tr style=\"text-align: right;\">\n",
       "      <th></th>\n",
       "      <th>similar_users</th>\n",
       "      <th>similarity</th>\n",
       "    </tr>\n",
       "  </thead>\n",
       "  <tbody>\n",
       "    <tr>\n",
       "      <th>4</th>\n",
       "      <td>243989</td>\n",
       "      <td>0.594711</td>\n",
       "    </tr>\n",
       "    <tr>\n",
       "      <th>3</th>\n",
       "      <td>273667</td>\n",
       "      <td>0.547912</td>\n",
       "    </tr>\n",
       "    <tr>\n",
       "      <th>2</th>\n",
       "      <td>212764</td>\n",
       "      <td>0.546580</td>\n",
       "    </tr>\n",
       "    <tr>\n",
       "      <th>1</th>\n",
       "      <td>192962</td>\n",
       "      <td>0.541407</td>\n",
       "    </tr>\n",
       "    <tr>\n",
       "      <th>0</th>\n",
       "      <td>134428</td>\n",
       "      <td>0.527412</td>\n",
       "    </tr>\n",
       "  </tbody>\n",
       "</table>\n",
       "</div>"
      ],
      "text/plain": [
       "   similar_users  similarity\n",
       "4         243989    0.594711\n",
       "3         273667    0.547912\n",
       "2         212764    0.546580\n",
       "1         192962    0.541407\n",
       "0         134428    0.527412"
      ]
     },
     "execution_count": 29,
     "metadata": {},
     "output_type": "execute_result"
    }
   ],
   "source": [
    "similar_users = find_similar_users(int(random_user), \n",
    "                                   n=5, \n",
    "                                   neg=False)\n",
    "\n",
    "similar_users = similar_users[similar_users.similarity > 0.4]\n",
    "similar_users = similar_users[similar_users.similar_users != random_user]\n",
    "similar_users.head(5)"
   ]
  },
  {
   "cell_type": "markdown",
   "metadata": {},
   "source": [
    "## **User preferences**"
   ]
  },
  {
   "cell_type": "code",
   "execution_count": 42,
   "metadata": {},
   "outputs": [
    {
     "name": "stdout",
     "output_type": "stream",
     "text": [
      "Collecting wordcloud\n",
      "  Downloading wordcloud-1.8.1-cp38-cp38-win_amd64.whl (155 kB)\n",
      "Requirement already satisfied: numpy>=1.6.1 in c:\\users\\11459\\anaconda3\\lib\\site-packages (from wordcloud) (1.20.1)\n",
      "Requirement already satisfied: pillow in c:\\users\\11459\\anaconda3\\lib\\site-packages (from wordcloud) (8.2.0)\n",
      "Requirement already satisfied: matplotlib in c:\\users\\11459\\anaconda3\\lib\\site-packages (from wordcloud) (3.3.4)\n",
      "Requirement already satisfied: kiwisolver>=1.0.1 in c:\\users\\11459\\anaconda3\\lib\\site-packages (from matplotlib->wordcloud) (1.3.1)\n",
      "Requirement already satisfied: cycler>=0.10 in c:\\users\\11459\\anaconda3\\lib\\site-packages (from matplotlib->wordcloud) (0.10.0)\n",
      "Requirement already satisfied: pyparsing!=2.0.4,!=2.1.2,!=2.1.6,>=2.0.3 in c:\\users\\11459\\anaconda3\\lib\\site-packages (from matplotlib->wordcloud) (2.4.7)\n",
      "Requirement already satisfied: python-dateutil>=2.1 in c:\\users\\11459\\anaconda3\\lib\\site-packages (from matplotlib->wordcloud) (2.8.1)\n",
      "Requirement already satisfied: six in c:\\users\\11459\\anaconda3\\lib\\site-packages (from cycler>=0.10->matplotlib->wordcloud) (1.15.0)\n",
      "Installing collected packages: wordcloud\n",
      "Successfully installed wordcloud-1.8.1\n"
     ]
    }
   ],
   "source": [
    "!pip install wordcloud"
   ]
  },
  {
   "cell_type": "code",
   "execution_count": 32,
   "metadata": {
    "execution": {
     "iopub.execute_input": "2021-11-19T21:11:19.103142Z",
     "iopub.status.busy": "2021-11-19T21:11:19.102492Z",
     "iopub.status.idle": "2021-11-19T21:11:19.176543Z",
     "shell.execute_reply": "2021-11-19T21:11:19.175513Z",
     "shell.execute_reply.started": "2021-11-19T21:11:19.103093Z"
    }
   },
   "outputs": [],
   "source": [
    "from wordcloud import WordCloud\n",
    "from collections import defaultdict\n",
    "import matplotlib.pyplot as plt\n",
    "\n",
    "def showWordCloud(all_genres):\n",
    "    genres_cloud = WordCloud(width=700, height=400, \n",
    "                             background_color='white', \n",
    "                             colormap='gnuplot').generate_from_frequencies(all_genres)\n",
    "    \n",
    "    plt.figure(figsize=(10,8)) \n",
    "    plt.imshow(genres_cloud, interpolation='bilinear')\n",
    "    plt.axis('off')\n",
    "    plt.show()\n",
    "\n",
    "def getFavGenre(frame, plot=False):\n",
    "        frame.dropna(inplace=False)\n",
    "        all_genres = defaultdict(int)\n",
    "        \n",
    "        genres_list = []\n",
    "        for genres in frame['Genres']:\n",
    "            if isinstance(genres, str):\n",
    "                for genre in genres.split(','):\n",
    "                    genres_list.append(genre)\n",
    "                    all_genres[genre.strip()] += 1    \n",
    "        if plot:\n",
    "            showWordCloud(all_genres)\n",
    "        \n",
    "        return genres_list\n",
    "\n",
    "    \n",
    "def get_user_preferences(user_id, plot=False, verbose=0):\n",
    "    animes_watched_by_user = rating_df[rating_df.user_id==user_id]\n",
    "    user_rating_percentile = np.percentile(animes_watched_by_user.rating, 75)\n",
    "    animes_watched_by_user = animes_watched_by_user[animes_watched_by_user.rating >= user_rating_percentile]\n",
    "    top_animes_user = (\n",
    "        animes_watched_by_user.sort_values(by=\"rating\", ascending=False)#.head(10)\n",
    "        .anime_id.values\n",
    "    )\n",
    "    \n",
    "    anime_df_rows = df[df[\"anime_id\"].isin(top_animes_user)]\n",
    "    anime_df_rows = anime_df_rows[[\"eng_version\", \"Genres\"]]\n",
    "    \n",
    "    if verbose != 0:\n",
    "        print(\"User #{} has rated {} movies (avg. rating = {:.1f})\".format(\n",
    "          user_id, len(animes_watched_by_user),\n",
    "          animes_watched_by_user['rating'].mean(),\n",
    "        ))\n",
    "    \n",
    "        print('Preferred genres')\n",
    "    \n",
    "    if plot:\n",
    "        getFavGenre(anime_df_rows, plot)\n",
    "        \n",
    "    return anime_df_rows#.eng_version.values"
   ]
  },
  {
   "cell_type": "code",
   "execution_count": 33,
   "metadata": {
    "execution": {
     "iopub.execute_input": "2021-11-19T21:11:19.179327Z",
     "iopub.status.busy": "2021-11-19T21:11:19.178626Z",
     "iopub.status.idle": "2021-11-19T21:11:19.851965Z",
     "shell.execute_reply": "2021-11-19T21:11:19.851366Z",
     "shell.execute_reply.started": "2021-11-19T21:11:19.179278Z"
    }
   },
   "outputs": [
    {
     "name": "stdout",
     "output_type": "stream",
     "text": [
      "User #330601 has rated 116 movies (avg. rating = 0.9)\n",
      "Preferred genres\n"
     ]
    },
    {
     "data": {
      "image/png": "[encoded data removed]",
      "text/plain": [
       "<Figure size 720x576 with 1 Axes>"
      ]
     },
     "metadata": {
      "needs_background": "light"
     },
     "output_type": "display_data"
    },
    {
     "name": "stdout",
     "output_type": "stream",
     "text": [
      "> animes highly rated by this user\n"
     ]
    },
    {
     "data": {
      "text/html": [
       "<div>\n",
       "<style scoped>\n",
       "    .dataframe tbody tr th:only-of-type {\n",
       "        vertical-align: middle;\n",
       "    }\n",
       "\n",
       "    .dataframe tbody tr th {\n",
       "        vertical-align: top;\n",
       "    }\n",
       "\n",
       "    .dataframe thead th {\n",
       "        text-align: right;\n",
       "    }\n",
       "</style>\n",
       "<table border=\"1\" class=\"dataframe\">\n",
       "  <thead>\n",
       "    <tr style=\"text-align: right;\">\n",
       "      <th></th>\n",
       "      <th>eng_version</th>\n",
       "      <th>Genres</th>\n",
       "    </tr>\n",
       "  </thead>\n",
       "  <tbody>\n",
       "    <tr>\n",
       "      <th>3971</th>\n",
       "      <td>Fullmetal Alchemist:Brotherhood</td>\n",
       "      <td>Action, Military, Adventure, Comedy, Drama, Magic, Fantasy, Shounen</td>\n",
       "    </tr>\n",
       "    <tr>\n",
       "      <th>5683</th>\n",
       "      <td>Steins;Gate</td>\n",
       "      <td>Thriller, Sci-Fi</td>\n",
       "    </tr>\n",
       "    <tr>\n",
       "      <th>6474</th>\n",
       "      <td>Hunter x Hunter</td>\n",
       "      <td>Action, Adventure, Fantasy, Shounen, Super Power</td>\n",
       "    </tr>\n",
       "    <tr>\n",
       "      <th>11624</th>\n",
       "      <td>Haikyu!! 3rd Season</td>\n",
       "      <td>Comedy, Sports, Drama, School, Shounen</td>\n",
       "    </tr>\n",
       "    <tr>\n",
       "      <th>8883</th>\n",
       "      <td>Your Lie in April</td>\n",
       "      <td>Drama, Music, Romance, School, Shounen</td>\n",
       "    </tr>\n",
       "  </tbody>\n",
       "</table>\n",
       "</div>"
      ],
      "text/plain": [
       "                           eng_version  \\\n",
       "3971   Fullmetal Alchemist:Brotherhood   \n",
       "5683                       Steins;Gate   \n",
       "6474                   Hunter x Hunter   \n",
       "11624              Haikyu!! 3rd Season   \n",
       "8883                 Your Lie in April   \n",
       "\n",
       "                                                                    Genres  \n",
       "3971   Action, Military, Adventure, Comedy, Drama, Magic, Fantasy, Shounen  \n",
       "5683                                                      Thriller, Sci-Fi  \n",
       "6474                      Action, Adventure, Fantasy, Shounen, Super Power  \n",
       "11624                               Comedy, Sports, Drama, School, Shounen  \n",
       "8883                                Drama, Music, Romance, School, Shounen  "
      ]
     },
     "execution_count": 33,
     "metadata": {},
     "output_type": "execute_result"
    }
   ],
   "source": [
    "user_pref = get_user_preferences(random_user, plot=True, verbose=1)\n",
    "print('> animes highly rated by this user')\n",
    "\n",
    "pd.DataFrame(user_pref).head(5)"
   ]
  },
  {
   "cell_type": "markdown",
   "metadata": {},
   "source": [
    "# **Recommending** animes for a user"
   ]
  },
  {
   "cell_type": "code",
   "execution_count": 34,
   "metadata": {
    "execution": {
     "iopub.execute_input": "2021-11-19T21:11:19.853653Z",
     "iopub.status.busy": "2021-11-19T21:11:19.853221Z",
     "iopub.status.idle": "2021-11-19T21:11:19.863397Z",
     "shell.execute_reply": "2021-11-19T21:11:19.86252Z",
     "shell.execute_reply.started": "2021-11-19T21:11:19.853621Z"
    }
   },
   "outputs": [],
   "source": [
    "def get_recommended_animes(similar_users, n=10):\n",
    "    recommended_animes = []\n",
    "    anime_list = []\n",
    "    \n",
    "    for user_id in similar_users.similar_users.values:\n",
    "        pref_list = get_user_preferences(int(user_id), verbose=0)\n",
    "        pref_list = pref_list[~ pref_list.eng_version.isin(user_pref.eng_version.values)]\n",
    "        anime_list.append(pref_list.eng_version.values)\n",
    "        \n",
    "    anime_list = pd.DataFrame(anime_list)\n",
    "    sorted_list = pd.DataFrame(pd.Series(anime_list.values.ravel()).value_counts()).head(n)\n",
    "    \n",
    "    for i, anime_name in enumerate(sorted_list.index):        \n",
    "        n_user_pref = sorted_list[sorted_list.index == anime_name].values[0][0]\n",
    "        if isinstance(anime_name, str):\n",
    "            try:\n",
    "                frame = getAnimeFrame(anime_name)\n",
    "                anime_id = frame.anime_id.values[0]\n",
    "                genre = frame.Genres.values[0]\n",
    "                sypnopsis = getSypnopsis(int(anime_id))\n",
    "                recommended_animes.append({#\"anime_id\": anime_id ,\n",
    "                                            \"n\": n_user_pref,\n",
    "                                            \"anime_name\": anime_name, \n",
    "                                            \"Genres\": genre, \n",
    "                                            \"sypnopsis\": sypnopsis})\n",
    "            except:\n",
    "                pass\n",
    "    \n",
    "    return pd.DataFrame(recommended_animes)"
   ]
  },
  {
   "cell_type": "code",
   "execution_count": 36,
   "metadata": {
    "execution": {
     "iopub.execute_input": "2021-11-19T21:11:19.864934Z",
     "iopub.status.busy": "2021-11-19T21:11:19.8647Z",
     "iopub.status.idle": "2021-11-19T21:11:20.786348Z",
     "shell.execute_reply": "2021-11-19T21:11:20.785773Z",
     "shell.execute_reply.started": "2021-11-19T21:11:19.864906Z"
    }
   },
   "outputs": [
    {
     "data": {
      "image/png": "[encoded data removed]",
      "text/plain": [
       "<Figure size 720x576 with 1 Axes>"
      ]
     },
     "metadata": {
      "needs_background": "light"
     },
     "output_type": "display_data"
    },
    {
     "name": "stdout",
     "output_type": "stream",
     "text": [
      "Top recommendations for user: 330601\n"
     ]
    },
    {
     "data": {
      "text/html": [
       "<div>\n",
       "<style scoped>\n",
       "    .dataframe tbody tr th:only-of-type {\n",
       "        vertical-align: middle;\n",
       "    }\n",
       "\n",
       "    .dataframe tbody tr th {\n",
       "        vertical-align: top;\n",
       "    }\n",
       "\n",
       "    .dataframe thead th {\n",
       "        text-align: right;\n",
       "    }\n",
       "</style>\n",
       "<table border=\"1\" class=\"dataframe\">\n",
       "  <thead>\n",
       "    <tr style=\"text-align: right;\">\n",
       "      <th></th>\n",
       "      <th>n</th>\n",
       "      <th>anime_name</th>\n",
       "      <th>Genres</th>\n",
       "      <th>sypnopsis</th>\n",
       "    </tr>\n",
       "  </thead>\n",
       "  <tbody>\n",
       "    <tr>\n",
       "      <th>0</th>\n",
       "      <td>5</td>\n",
       "      <td>GATE</td>\n",
       "      <td>Action, Military, Adventure, Fantasy</td>\n",
       "      <td>Several months have passed since the infamous Ginza Incident, with tensions between the Empire and JSDF escalating in the vast and mysterious \"Special Region\" over peace negotiations. The greed and curiosity of the global powers have also begun to grow, as reports about the technological limitations of the magical realm's archaic civilizations come to light. Meanwhile, Lieutenant Youji Itami and his merry band of female admirers struggle to navigate the complex political intrigue that plagues the Empire's court. Despite her best efforts, Princess Piña Co Lada faces difficulties attempting to convince her father that the JSDF has no intention of conquering their kingdom. Pressured from both sides of the Gate, Itami must consider even more drastic measures to fulfill his mission.</td>\n",
       "    </tr>\n",
       "    <tr>\n",
       "      <th>1</th>\n",
       "      <td>5</td>\n",
       "      <td>Aldnoah.Zero</td>\n",
       "      <td>Action, Military, Sci-Fi, Mecha</td>\n",
       "      <td>The discovery of a hypergate on the Moon once allowed the human race to teleport to Mars. Those who chose to settle there unearthed a technology far more advanced than that of their home planet, which they named \"Aldnoah.\" This discovery led to the founding of the Vers Empire of Mars and a declaration of war against the \"Terrans,\" those who stayed behind on Earth. However, a battle on the moon—later called \"Heaven's Fall\"—caused the hypergate to explode, destroying the moon and leading the two planets to establish an uneasy ceasefire. Their peace was a fragile one, however. Fifteen years later, high school student Inaho Kaizuka witnesses the plotted assassination of the Vers Empire's Princess Asseylum Vers Allusia, who had come to Earth in hopes of repairing the relationship between the empire and its homeland. The ceasefire is shattered, and the Martians declare war on the Terrans once again. In the face of this insurmountable enemy, Inaho and his friends must now fight against the Vers Empire to settle the war once and for all.</td>\n",
       "    </tr>\n",
       "    <tr>\n",
       "      <th>2</th>\n",
       "      <td>4</td>\n",
       "      <td>Overlord</td>\n",
       "      <td>Action, Adventure, Fantasy, Game, Magic, Supernatural</td>\n",
       "      <td>The final hour of the popular virtual reality game Yggdrasil has come. However, Momonga, a powerful wizard and master of the dark guild Ainz Ooal Gown, decides to spend his last few moments in the game as the servers begin to shut down. To his surprise, despite the clock having struck midnight, Momonga is still fully conscious as his character and, moreover, the non-player characters appear to have developed personalities of their own! Confronted with this abnormal situation, Momonga commands his loyal servants to help him investigate and take control of this new world, with the hopes of figuring out what has caused this development and if there may be others in the same predicament.</td>\n",
       "    </tr>\n",
       "    <tr>\n",
       "      <th>3</th>\n",
       "      <td>4</td>\n",
       "      <td>Fairy Tail</td>\n",
       "      <td>Action, Adventure, Comedy, Magic, Fantasy, Shounen</td>\n",
       "      <td>In the mystical land of Fiore, magic exists as an essential part of everyday life. Countless magic guilds lie at the core of all magical activity, and serve as venues for like-minded mages to band together and take on job requests. Among them, Fairy Tail stands out from the rest as a place of strength, spirit, and family. Lucy Heartfilia is a young mage searching for celestial gate keys, and her dream is to become a full-fledged wizard by joining this famous guild. In her search, she runs into Natsu Dragneel and his partner Happy, who are on a quest to find Natsu's foster father, the dragon Igneel. Upon being tricked by a man, Lucy falls under an abduction attempt, only to be saved by Natsu. To her shock, he reveals that he is a member of Fairy Tail and invites her to join them. There, Lucy meets the guild's strange members, such as the ice wizard Gray Fullbuster and magic swordswoman Erza Scarlet. Together as a family, they battle the forces of evil, help those in need, and gain new friends, all the while enjoying the never-ending adventure that is Fairy Tail.</td>\n",
       "    </tr>\n",
       "    <tr>\n",
       "      <th>4</th>\n",
       "      <td>4</td>\n",
       "      <td>The Last:Naruto the Movie</td>\n",
       "      <td>Action, Super Power, Romance, Martial Arts, Shounen</td>\n",
       "      <td>Two years have passed since the end of the Fourth Great Ninja War. Konohagakure has remained in a state of peace and harmony—until Sixth Hokage Kakashi Hatake notices the moon is dangerously approaching the Earth, posing the threat of planetary ruin. Amidst the grave ordeal, the Konoha is invaded by a new evil, Toneri Oosutuski, who suddenly abducts Hinata Hyuuga's little sister Hanabi. Kakashi dispatches a skilled ninja team comprised of Naruto Uzumaki, Sakura Haruno, Shikamaru Nara, Sai, and Hinata in an effort to rescue Hanabi from the diabolical clutches of Toneri. However, during their mission, the team faces several obstacles that challenge them, foiling their efforts. With her abduction, the relationships the team share with one another are tested, and with the world reaching the brink of destruction, they must race against time to ensure the safety of their planet. Meanwhile, as the battle ensues, Naruto is driven to fight for something greater than he has ever imagined—love.</td>\n",
       "    </tr>\n",
       "    <tr>\n",
       "      <th>5</th>\n",
       "      <td>4</td>\n",
       "      <td>Parasyte -the maxim-</td>\n",
       "      <td>Action, Sci-Fi, Horror, Psychological, Drama, Seinen</td>\n",
       "      <td>ll of a sudden, they arrived: parasitic aliens that descended upon Earth and quickly infiltrated humanity by burrowing into the brains of vulnerable targets. These insatiable beings acquire full control of their host and are able to morph into a variety of forms in order to feed on unsuspecting prey. Sixteen-year-old high school student Shinichi Izumi falls victim to one of these parasites, but it fails to take over his brain, ending up in his right hand instead. Unable to relocate, the parasite, now named Migi, has no choice but to rely on Shinichi in order to stay alive. Thus, the pair is forced into an uneasy coexistence and must defend themselves from hostile parasites that hope to eradicate this new threat to their species.</td>\n",
       "    </tr>\n",
       "    <tr>\n",
       "      <th>6</th>\n",
       "      <td>4</td>\n",
       "      <td>Clannad</td>\n",
       "      <td>Comedy, Drama, Romance, School, Slice of Life, Supernatural</td>\n",
       "      <td>Tomoya Okazaki is a delinquent who finds life dull and believes he'll never amount to anything. Along with his friend Youhei Sunohara, he skips school and plans to waste his high school days away. One day while walking to school, Tomoya passes a young girl muttering quietly to herself. Without warning she exclaims \"Anpan!\" (a popular Japanese food) which catches Tomoya's attention. He soon discovers the girl's name is Nagisa Furukawa and that she exclaims things she likes in order to motivate herself. Nagisa claims they are now friends, but Tomoya walks away passing the encounter off as nothing. However, Tomoya finds he is noticing Nagisa more and more around school. Eventually he concedes and befriends her. Tomoya learns Nagisa has been held back a year due to a severe illness and that her dream is to revive the school's drama club. Claiming he has nothing better to do, he decides to help her achieve this goal along with the help of four other girls. As Tomoya spends more time with the girls, he learns more about them and their problems. As he attempts to help each girl overcome her respective obstacle, he begins to realize life isn't as dull as he once thought.</td>\n",
       "    </tr>\n",
       "    <tr>\n",
       "      <th>7</th>\n",
       "      <td>4</td>\n",
       "      <td>Tokyo Ghoul</td>\n",
       "      <td>Action, Mystery, Horror, Psychological, Supernatural, Drama, Seinen</td>\n",
       "      <td>Tokyo has become a cruel and merciless city—a place where vicious creatures called \"ghouls\" exist alongside humans. The citizens of this once great metropolis live in constant fear of these bloodthirsty savages and their thirst for human flesh. However, the greatest threat these ghouls pose is their dangerous ability to masquerade as humans and blend in with society. Based on the best-selling supernatural horror manga by Sui Ishida, Tokyo Ghoul follows Ken Kaneki, a shy, bookish college student, who is instantly drawn to Rize Kamishiro, an avid reader like himself. However, Rize is not exactly who she seems, and this unfortunate meeting pushes Kaneki into the dark depths of the ghouls' inhuman world. In a twist of fate, Kaneki is saved by the enigmatic waitress Touka Kirishima, and thus begins his new, secret life as a half-ghoul/half-human who must find a way to integrate into both societies.</td>\n",
       "    </tr>\n",
       "    <tr>\n",
       "      <th>8</th>\n",
       "      <td>3</td>\n",
       "      <td>Bleach</td>\n",
       "      <td>Action, Adventure, Comedy, Super Power, Supernatural, Shounen</td>\n",
       "      <td>Ichigo Kurosaki is an ordinary high schooler—until his family is attacked by a Hollow, a corrupt spirit that seeks to devour human souls. It is then that he meets a Soul Reaper named Rukia Kuchiki, who gets injured while protecting Ichigo's family from the assailant. To save his family, Ichigo accepts Rukia's offer of taking her powers and becomes a Soul Reaper as a result. However, as Rukia is unable to regain her powers, Ichigo is given the daunting task of hunting down the Hollows that plague their town. However, he is not alone in his fight, as he is later joined by his friends—classmates Orihime Inoue, Yasutora Sado, and Uryuu Ishida—who each have their own unique abilities. As Ichigo and his comrades get used to their new duties and support each other on and off the battlefield, the young Soul Reaper soon learns that the Hollows are not the only real threat to the human world.</td>\n",
       "    </tr>\n",
       "    <tr>\n",
       "      <th>9</th>\n",
       "      <td>3</td>\n",
       "      <td>Bakuman.</td>\n",
       "      <td>Comedy, Drama, Romance, Shounen</td>\n",
       "      <td>Onto their third serialization, manga duo Moritaka Mashiro and Akito Takagi—also known by their pen name, Muto Ashirogi—are ever closer to their dream of an anime adaption. However, the real challenge is only just beginning: if they are unable to compete with the artist Eiji Niizuma in the rankings within the span of six months, they will be canceled. To top it off, numerous rivals are close behind and declaring war. They don't even have enough time to spare thinking about an anime! In Bakuman. 3rd Season , Muto Ashirogi must find a way to stay atop the colossal mountain known as the Shounen Jack rankings. With new problems and new assistants, the pair continue to strive for their dream.</td>\n",
       "    </tr>\n",
       "  </tbody>\n",
       "</table>\n",
       "</div>"
      ],
      "text/plain": [
       "   n                 anime_name  \\\n",
       "0  5                       GATE   \n",
       "1  5               Aldnoah.Zero   \n",
       "2  4                   Overlord   \n",
       "3  4                 Fairy Tail   \n",
       "4  4  The Last:Naruto the Movie   \n",
       "5  4       Parasyte -the maxim-   \n",
       "6  4                    Clannad   \n",
       "7  4                Tokyo Ghoul   \n",
       "8  3                     Bleach   \n",
       "9  3                   Bakuman.   \n",
       "\n",
       "                                                                Genres  \\\n",
       "0                                 Action, Military, Adventure, Fantasy   \n",
       "1                                      Action, Military, Sci-Fi, Mecha   \n",
       "2                Action, Adventure, Fantasy, Game, Magic, Supernatural   \n",
       "3                   Action, Adventure, Comedy, Magic, Fantasy, Shounen   \n",
       "4                  Action, Super Power, Romance, Martial Arts, Shounen   \n",
       "5                 Action, Sci-Fi, Horror, Psychological, Drama, Seinen   \n",
       "6          Comedy, Drama, Romance, School, Slice of Life, Supernatural   \n",
       "7  Action, Mystery, Horror, Psychological, Supernatural, Drama, Seinen   \n",
       "8        Action, Adventure, Comedy, Super Power, Supernatural, Shounen   \n",
       "9                                      Comedy, Drama, Romance, Shounen   \n",
       "\n",
       "                                                                                                                                                                                                                                                                                                                                                                                                                                                                                                                                                                                                                                                                                                                                                                                                                                                                                                                                                                                                                                                                                                                                                                                                                       sypnopsis  \n",
       "0                                                                                                                                                                                                                                                                                                                                                                                                           Several months have passed since the infamous Ginza Incident, with tensions between the Empire and JSDF escalating in the vast and mysterious \"Special Region\" over peace negotiations. The greed and curiosity of the global powers have also begun to grow, as reports about the technological limitations of the magical realm's archaic civilizations come to light. Meanwhile, Lieutenant Youji Itami and his merry band of female admirers struggle to navigate the complex political intrigue that plagues the Empire's court. Despite her best efforts, Princess Piña Co Lada faces difficulties attempting to convince her father that the JSDF has no intention of conquering their kingdom. Pressured from both sides of the Gate, Itami must consider even more drastic measures to fulfill his mission.  \n",
       "1                                                                                                                                          The discovery of a hypergate on the Moon once allowed the human race to teleport to Mars. Those who chose to settle there unearthed a technology far more advanced than that of their home planet, which they named \"Aldnoah.\" This discovery led to the founding of the Vers Empire of Mars and a declaration of war against the \"Terrans,\" those who stayed behind on Earth. However, a battle on the moon—later called \"Heaven's Fall\"—caused the hypergate to explode, destroying the moon and leading the two planets to establish an uneasy ceasefire. Their peace was a fragile one, however. Fifteen years later, high school student Inaho Kaizuka witnesses the plotted assassination of the Vers Empire's Princess Asseylum Vers Allusia, who had come to Earth in hopes of repairing the relationship between the empire and its homeland. The ceasefire is shattered, and the Martians declare war on the Terrans once again. In the face of this insurmountable enemy, Inaho and his friends must now fight against the Vers Empire to settle the war once and for all.  \n",
       "2                                                                                                                                                                                                                                                                                                                                                                                                                                                                                                           The final hour of the popular virtual reality game Yggdrasil has come. However, Momonga, a powerful wizard and master of the dark guild Ainz Ooal Gown, decides to spend his last few moments in the game as the servers begin to shut down. To his surprise, despite the clock having struck midnight, Momonga is still fully conscious as his character and, moreover, the non-player characters appear to have developed personalities of their own! Confronted with this abnormal situation, Momonga commands his loyal servants to help him investigate and take control of this new world, with the hopes of figuring out what has caused this development and if there may be others in the same predicament.  \n",
       "3                                                                                                          In the mystical land of Fiore, magic exists as an essential part of everyday life. Countless magic guilds lie at the core of all magical activity, and serve as venues for like-minded mages to band together and take on job requests. Among them, Fairy Tail stands out from the rest as a place of strength, spirit, and family. Lucy Heartfilia is a young mage searching for celestial gate keys, and her dream is to become a full-fledged wizard by joining this famous guild. In her search, she runs into Natsu Dragneel and his partner Happy, who are on a quest to find Natsu's foster father, the dragon Igneel. Upon being tricked by a man, Lucy falls under an abduction attempt, only to be saved by Natsu. To her shock, he reveals that he is a member of Fairy Tail and invites her to join them. There, Lucy meets the guild's strange members, such as the ice wizard Gray Fullbuster and magic swordswoman Erza Scarlet. Together as a family, they battle the forces of evil, help those in need, and gain new friends, all the while enjoying the never-ending adventure that is Fairy Tail.  \n",
       "4                                                                                                                                                                                         Two years have passed since the end of the Fourth Great Ninja War. Konohagakure has remained in a state of peace and harmony—until Sixth Hokage Kakashi Hatake notices the moon is dangerously approaching the Earth, posing the threat of planetary ruin. Amidst the grave ordeal, the Konoha is invaded by a new evil, Toneri Oosutuski, who suddenly abducts Hinata Hyuuga's little sister Hanabi. Kakashi dispatches a skilled ninja team comprised of Naruto Uzumaki, Sakura Haruno, Shikamaru Nara, Sai, and Hinata in an effort to rescue Hanabi from the diabolical clutches of Toneri. However, during their mission, the team faces several obstacles that challenge them, foiling their efforts. With her abduction, the relationships the team share with one another are tested, and with the world reaching the brink of destruction, they must race against time to ensure the safety of their planet. Meanwhile, as the battle ensues, Naruto is driven to fight for something greater than he has ever imagined—love.  \n",
       "5                                                                                                                                                                                                                                                                                                                                                                                                                                                             ll of a sudden, they arrived: parasitic aliens that descended upon Earth and quickly infiltrated humanity by burrowing into the brains of vulnerable targets. These insatiable beings acquire full control of their host and are able to morph into a variety of forms in order to feed on unsuspecting prey. Sixteen-year-old high school student Shinichi Izumi falls victim to one of these parasites, but it fails to take over his brain, ending up in his right hand instead. Unable to relocate, the parasite, now named Migi, has no choice but to rely on Shinichi in order to stay alive. Thus, the pair is forced into an uneasy coexistence and must defend themselves from hostile parasites that hope to eradicate this new threat to their species.  \n",
       "6  Tomoya Okazaki is a delinquent who finds life dull and believes he'll never amount to anything. Along with his friend Youhei Sunohara, he skips school and plans to waste his high school days away. One day while walking to school, Tomoya passes a young girl muttering quietly to herself. Without warning she exclaims \"Anpan!\" (a popular Japanese food) which catches Tomoya's attention. He soon discovers the girl's name is Nagisa Furukawa and that she exclaims things she likes in order to motivate herself. Nagisa claims they are now friends, but Tomoya walks away passing the encounter off as nothing. However, Tomoya finds he is noticing Nagisa more and more around school. Eventually he concedes and befriends her. Tomoya learns Nagisa has been held back a year due to a severe illness and that her dream is to revive the school's drama club. Claiming he has nothing better to do, he decides to help her achieve this goal along with the help of four other girls. As Tomoya spends more time with the girls, he learns more about them and their problems. As he attempts to help each girl overcome her respective obstacle, he begins to realize life isn't as dull as he once thought.  \n",
       "7                                                                                                                                                                                                                                                                                     Tokyo has become a cruel and merciless city—a place where vicious creatures called \"ghouls\" exist alongside humans. The citizens of this once great metropolis live in constant fear of these bloodthirsty savages and their thirst for human flesh. However, the greatest threat these ghouls pose is their dangerous ability to masquerade as humans and blend in with society. Based on the best-selling supernatural horror manga by Sui Ishida, Tokyo Ghoul follows Ken Kaneki, a shy, bookish college student, who is instantly drawn to Rize Kamishiro, an avid reader like himself. However, Rize is not exactly who she seems, and this unfortunate meeting pushes Kaneki into the dark depths of the ghouls' inhuman world. In a twist of fate, Kaneki is saved by the enigmatic waitress Touka Kirishima, and thus begins his new, secret life as a half-ghoul/half-human who must find a way to integrate into both societies.  \n",
       "8                                                                                                                                                                                                                                                                                                Ichigo Kurosaki is an ordinary high schooler—until his family is attacked by a Hollow, a corrupt spirit that seeks to devour human souls. It is then that he meets a Soul Reaper named Rukia Kuchiki, who gets injured while protecting Ichigo's family from the assailant. To save his family, Ichigo accepts Rukia's offer of taking her powers and becomes a Soul Reaper as a result. However, as Rukia is unable to regain her powers, Ichigo is given the daunting task of hunting down the Hollows that plague their town. However, he is not alone in his fight, as he is later joined by his friends—classmates Orihime Inoue, Yasutora Sado, and Uryuu Ishida—who each have their own unique abilities. As Ichigo and his comrades get used to their new duties and support each other on and off the battlefield, the young Soul Reaper soon learns that the Hollows are not the only real threat to the human world.  \n",
       "9                                                                                                                                                                                                                                                                                                                                                                                                                                                                                                       Onto their third serialization, manga duo Moritaka Mashiro and Akito Takagi—also known by their pen name, Muto Ashirogi—are ever closer to their dream of an anime adaption. However, the real challenge is only just beginning: if they are unable to compete with the artist Eiji Niizuma in the rankings within the span of six months, they will be canceled. To top it off, numerous rivals are close behind and declaring war. They don't even have enough time to spare thinking about an anime! In Bakuman. 3rd Season , Muto Ashirogi must find a way to stay atop the colossal mountain known as the Shounen Jack rankings. With new problems and new assistants, the pair continue to strive for their dream.  "
      ]
     },
     "execution_count": 36,
     "metadata": {},
     "output_type": "execute_result"
    }
   ],
   "source": [
    "recommended_animes = get_recommended_animes(similar_users, n=10)\n",
    "getFavGenre(recommended_animes, plot=True)\n",
    "\n",
    "print('Top recommendations for user: {}'.format(random_user))\n",
    "recommended_animes"
   ]
  },
  {
   "cell_type": "markdown",
   "metadata": {},
   "source": [
    "## **Ranking based Recommendation**"
   ]
  },
  {
   "cell_type": "markdown",
   "metadata": {},
   "source": [
    "## pick up another random user"
   ]
  },
  {
   "cell_type": "code",
   "execution_count": 102,
   "metadata": {},
   "outputs": [],
   "source": [
    "ratings_per_user = rating_df.groupby('user_id').size()\n",
    "random_user = ratings_per_user[ratings_per_user < 500].sample(1, random_state=None).index[0]"
   ]
  },
  {
   "cell_type": "markdown",
   "metadata": {},
   "source": [
    "## Using model to predict the rating result of unwatched anime and sort it"
   ]
  },
  {
   "cell_type": "code",
   "execution_count": 103,
   "metadata": {
    "execution": {
     "iopub.execute_input": "2021-11-19T21:11:20.78824Z",
     "iopub.status.busy": "2021-11-19T21:11:20.787457Z",
     "iopub.status.idle": "2021-11-19T21:11:24.56329Z",
     "shell.execute_reply": "2021-11-19T21:11:24.562463Z",
     "shell.execute_reply.started": "2021-11-19T21:11:20.788208Z"
    }
   },
   "outputs": [
    {
     "name": "stdout",
     "output_type": "stream",
     "text": [
      "Showing recommendations for user: 305294\n",
      "===========================================================================\n",
      "---------------------------------------------------------------------------\n",
      "> Top 5 anime recommendations\n",
      "---------------------------------------------------------------------------\n"
     ]
    },
    {
     "data": {
      "text/html": [
       "<div>\n",
       "<style scoped>\n",
       "    .dataframe tbody tr th:only-of-type {\n",
       "        vertical-align: middle;\n",
       "    }\n",
       "\n",
       "    .dataframe tbody tr th {\n",
       "        vertical-align: top;\n",
       "    }\n",
       "\n",
       "    .dataframe thead th {\n",
       "        text-align: right;\n",
       "    }\n",
       "</style>\n",
       "<table border=\"1\" class=\"dataframe\">\n",
       "  <thead>\n",
       "    <tr style=\"text-align: right;\">\n",
       "      <th></th>\n",
       "      <th>name</th>\n",
       "      <th>pred_rating</th>\n",
       "      <th>genre</th>\n",
       "      <th>sypnopsis</th>\n",
       "    </tr>\n",
       "  </thead>\n",
       "  <tbody>\n",
       "    <tr>\n",
       "      <th>2</th>\n",
       "      <td>Angel Densetsu</td>\n",
       "      <td>0.746519</td>\n",
       "      <td>Action, Comedy, School</td>\n",
       "      <td>hen Seikichi Kuroda—self-proclaimed \"guardian\" and head thug of Hekikuu High School—hears rumors of a first-year transfer student named Seiichirou Kitano terrorizing his entire class, Seikichi tries to intimidate him through authority. However, things go awry when he witnesses something horrifying—Seiichirou has a face so dreadful and haunting that even Seikichi hurries away in fear. But despite his menacing appearance, Seiichirou has a heart of gold. Inhibited by his poor communication skills and fear-inducing looks, he has never managed to convey his true self to his terrified peers, resulting in his lifelong ostracization. Now the new guardian, Seiichirou discovers that sometimes friends can be found in the most unlikely places and through the most unusual circumstances.</td>\n",
       "    </tr>\n",
       "    <tr>\n",
       "      <th>4</th>\n",
       "      <td>The Case of Hana &amp; Alice</td>\n",
       "      <td>0.718479</td>\n",
       "      <td>Drama, Mystery, Slice of Life</td>\n",
       "      <td>fter transferring to Ishinomori Middle School, Tetsuko \"Alice\" Arisugawa overhears her classmates discussing a strange rumor. The previous occupant of her seat, a nondescript \"Judas,\" is missing and presumed murdered—poisoned by one of his four wives. Amidst dealing with her mother's undesired meddling in her affairs and warding off her classmates' bullying, the troubled Alice starts to investigate the mystery surrounding Judas' disappearance. The trail of clues leads her to the house of her next-door neighbor, the quirky and reclusive Hana Arai. After an awkward introduction, Hana agrees to help Alice and formulates a plan that may lead them to the answers they seek. The two girls embark on a journey to uncover what happened to Judas, and perhaps a friendship may start to blossom between the two along the way.</td>\n",
       "    </tr>\n",
       "    <tr>\n",
       "      <th>1</th>\n",
       "      <td>Yukikaze</td>\n",
       "      <td>0.716774</td>\n",
       "      <td>Action, Drama, Military, Psychological, Sci-Fi, Space</td>\n",
       "      <td>This full 3DCG digital animation has story takes place in the far future after a pillar of huge fog appeared suddenly in the South Pole. This pillar, known as Jam, is actually a passage for an earth invasion. In order to oppose the threat, the United Nations established an earth defense mechanism. Fukai Zero is a hero registered to the main force of earth defense and the special 5th flight squadron. His reconnaissance plane, Yukikaze (windblown snow) is the best tactical reconnaissance plane. His job is to collect battle information return safely to the base with the information. But one day when he about to finish his duty, an unidentified machine attacked him... (Source: AnimeNfo)</td>\n",
       "    </tr>\n",
       "    <tr>\n",
       "      <th>3</th>\n",
       "      <td>A Letter to Momo</td>\n",
       "      <td>0.715655</td>\n",
       "      <td>Supernatural, Drama</td>\n",
       "      <td>fter the unexpected death of her father, 11-year-old Momo Miyaura leaves Tokyo with her mother and moves to an old remote island in Seto Inland Sea. The only memento she has from her father is an unfinished letter with only two words inside: \"Dear Momo\"—along with her heart's unrest from it. In the new and unfamiliar small town, Momo reluctantly tries to adjust to the outmoded wooden buildings, silent crop fields, and mysterious isolated shrines. One day, while exploring the attic of her new home, she finds a worn out picture book about youkai. Following this discovery, strange things begin to happen around town, and Momo is greeted by the arrival of three troublesome youkai. Momo e no Tegami tells the story of a young girl as she struggles to adapt to her bizarre new life and ultimately come to terms with her father's mysterious letter.</td>\n",
       "    </tr>\n",
       "    <tr>\n",
       "      <th>0</th>\n",
       "      <td>Steamboy</td>\n",
       "      <td>0.701555</td>\n",
       "      <td>Action, Military, Sci-Fi, Adventure, Historical, Drama</td>\n",
       "      <td>ay is a young wunderkind inventor living in Victorian England. His life is turned upside down when he receives a special package hailing from the United States, sent by his grandfather, Lloyd Steam. The package contains a device called a Steam Ball, a device so powerful that it can drive any machine that requires steam with a nearly limitless amount of energy. Ray is instructed to not let the Steam Ball fall into the wrong hands, which include the mighty O'Hara Foundation, who desperately want to bring the Steam Ball back into their control so they can achieve their less than noble goals. He will need to use every bit of his brilliance in order to dodge the countless goons that are sent to snatch the device from him. It will be a battle between good and evil, a battle for redemption, a battle for the future!</td>\n",
       "    </tr>\n",
       "  </tbody>\n",
       "</table>\n",
       "</div>"
      ],
      "text/plain": [
       "                       name  pred_rating  \\\n",
       "2            Angel Densetsu     0.746519   \n",
       "4  The Case of Hana & Alice     0.718479   \n",
       "1                  Yukikaze     0.716774   \n",
       "3          A Letter to Momo     0.715655   \n",
       "0                  Steamboy     0.701555   \n",
       "\n",
       "                                                    genre  \\\n",
       "2                                  Action, Comedy, School   \n",
       "4                           Drama, Mystery, Slice of Life   \n",
       "1   Action, Drama, Military, Psychological, Sci-Fi, Space   \n",
       "3                                     Supernatural, Drama   \n",
       "0  Action, Military, Sci-Fi, Adventure, Historical, Drama   \n",
       "\n",
       "                                                                                                                                                                                                                                                                                                                                                                                                                                                                                                                                                                                                                                                                                                                                                                                                                                                                           sypnopsis  \n",
       "2                                                                   hen Seikichi Kuroda—self-proclaimed \"guardian\" and head thug of Hekikuu High School—hears rumors of a first-year transfer student named Seiichirou Kitano terrorizing his entire class, Seikichi tries to intimidate him through authority. However, things go awry when he witnesses something horrifying—Seiichirou has a face so dreadful and haunting that even Seikichi hurries away in fear. But despite his menacing appearance, Seiichirou has a heart of gold. Inhibited by his poor communication skills and fear-inducing looks, he has never managed to convey his true self to his terrified peers, resulting in his lifelong ostracization. Now the new guardian, Seiichirou discovers that sometimes friends can be found in the most unlikely places and through the most unusual circumstances.  \n",
       "4                             fter transferring to Ishinomori Middle School, Tetsuko \"Alice\" Arisugawa overhears her classmates discussing a strange rumor. The previous occupant of her seat, a nondescript \"Judas,\" is missing and presumed murdered—poisoned by one of his four wives. Amidst dealing with her mother's undesired meddling in her affairs and warding off her classmates' bullying, the troubled Alice starts to investigate the mystery surrounding Judas' disappearance. The trail of clues leads her to the house of her next-door neighbor, the quirky and reclusive Hana Arai. After an awkward introduction, Hana agrees to help Alice and formulates a plan that may lead them to the answers they seek. The two girls embark on a journey to uncover what happened to Judas, and perhaps a friendship may start to blossom between the two along the way.  \n",
       "1                                                                                                                                                                This full 3DCG digital animation has story takes place in the far future after a pillar of huge fog appeared suddenly in the South Pole. This pillar, known as Jam, is actually a passage for an earth invasion. In order to oppose the threat, the United Nations established an earth defense mechanism. Fukai Zero is a hero registered to the main force of earth defense and the special 5th flight squadron. His reconnaissance plane, Yukikaze (windblown snow) is the best tactical reconnaissance plane. His job is to collect battle information return safely to the base with the information. But one day when he about to finish his duty, an unidentified machine attacked him... (Source: AnimeNfo)  \n",
       "3  fter the unexpected death of her father, 11-year-old Momo Miyaura leaves Tokyo with her mother and moves to an old remote island in Seto Inland Sea. The only memento she has from her father is an unfinished letter with only two words inside: \"Dear Momo\"—along with her heart's unrest from it. In the new and unfamiliar small town, Momo reluctantly tries to adjust to the outmoded wooden buildings, silent crop fields, and mysterious isolated shrines. One day, while exploring the attic of her new home, she finds a worn out picture book about youkai. Following this discovery, strange things begin to happen around town, and Momo is greeted by the arrival of three troublesome youkai. Momo e no Tegami tells the story of a young girl as she struggles to adapt to her bizarre new life and ultimately come to terms with her father's mysterious letter.  \n",
       "0                                ay is a young wunderkind inventor living in Victorian England. His life is turned upside down when he receives a special package hailing from the United States, sent by his grandfather, Lloyd Steam. The package contains a device called a Steam Ball, a device so powerful that it can drive any machine that requires steam with a nearly limitless amount of energy. Ray is instructed to not let the Steam Ball fall into the wrong hands, which include the mighty O'Hara Foundation, who desperately want to bring the Steam Ball back into their control so they can achieve their less than noble goals. He will need to use every bit of his brilliance in order to dodge the countless goons that are sent to snatch the device from him. It will be a battle between good and evil, a battle for redemption, a battle for the future!  "
      ]
     },
     "execution_count": 103,
     "metadata": {},
     "output_type": "execute_result"
    }
   ],
   "source": [
    "print(\"Showing recommendations for user: {}\".format(random_user))\n",
    "print(\"===\" * 25)\n",
    "\n",
    "animes_watched_by_user = rating_df[rating_df.user_id==random_user]\n",
    "anime_not_watched_df = df[\n",
    "    ~df[\"anime_id\"].isin(animes_watched_by_user.anime_id.values)\n",
    "]\n",
    "\n",
    "anime_not_watched = list(\n",
    "    set(anime_not_watched_df['anime_id']).intersection(set(anime2anime_encoded.keys()))\n",
    ")\n",
    "\n",
    "anime_not_watched1 = [[anime2anime_encoded.get(x)] for x in anime_not_watched]\n",
    "\n",
    "user_encoder = user2user_encoded.get(random_user)\n",
    "\n",
    "# set all unwatch anime watched episode as 0 and watching status as 'plan to watch'\n",
    "we_layer = we2we_encoded.get(0)\n",
    "ws_layer = ws2ws_encoded.get(6)\n",
    "\n",
    "user_anime_array = np.hstack(\n",
    "    ([[user_encoder]] * len(anime_not_watched1), anime_not_watched1,[[we_layer]] * len(anime_not_watched1),[[we_layer]] * len(anime_not_watched1))\n",
    ")\n",
    "\n",
    "user_anime_array = [user_anime_array[:, 0], user_anime_array[:, 1],user_anime_array[:, 2],user_anime_array[:, 3]]\n",
    "ratings = model.predict(user_anime_array).flatten()\n",
    "\n",
    "top_ratings_indices = (-ratings).argsort()[:5]\n",
    "\n",
    "recommended_anime_ids = [\n",
    "    anime_encoded2anime.get(anime_not_watched1[x][0]) for x in top_ratings_indices\n",
    "]\n",
    "\n",
    "Results = []\n",
    "top_rated_ids = []\n",
    "\n",
    "for index, anime_id in enumerate(anime_not_watched1):\n",
    "    rating = ratings[index]\n",
    "    id_ = anime_encoded2anime.get(anime_id[0])\n",
    "    \n",
    "    if id_ in recommended_anime_ids:\n",
    "        top_rated_ids.append(id_)\n",
    "        try:\n",
    "            condition = (df.anime_id == id_)\n",
    "            name = df[condition]['eng_version'].values[0]\n",
    "            genre = df[condition].Genres.values[0]\n",
    "            score = df[condition].Score.values[0]\n",
    "            sypnopsis = getSypnopsis(int(id_))\n",
    "        except:\n",
    "            continue\n",
    "            \n",
    "        Results.append({#\"anime_id\": id_, \n",
    "                        \"name\": name, \n",
    "                        \"pred_rating\": rating,\n",
    "                        \"genre\": genre, \n",
    "                        'sypnopsis': sypnopsis})\n",
    "\n",
    "print(\"---\" * 25)\n",
    "print(\"> Top 5 anime recommendations\")\n",
    "print(\"---\" * 25)\n",
    "\n",
    "\n",
    "Results = pd.DataFrame(Results).sort_values(by='pred_rating', ascending=False)\n",
    "Results"
   ]
  },
  {
   "cell_type": "code",
   "execution_count": null,
   "metadata": {
    "execution": {
     "iopub.execute_input": "2021-11-19T21:11:24.564588Z",
     "iopub.status.busy": "2021-11-19T21:11:24.564359Z",
     "iopub.status.idle": "2021-11-19T21:11:25.200718Z",
     "shell.execute_reply": "2021-11-19T21:11:25.199697Z",
     "shell.execute_reply.started": "2021-11-19T21:11:24.56455Z"
    }
   },
   "outputs": [],
   "source": []
  },
  {
   "cell_type": "code",
   "execution_count": null,
   "metadata": {},
   "outputs": [],
   "source": []
  }
 ],
 "metadata": {
  "kernelspec": {
   "display_name": "Python 3",
   "language": "python",
   "name": "python3"
  },
  "language_info": {
   "codemirror_mode": {
    "name": "ipython",
    "version": 3
   },
   "file_extension": ".py",
   "mimetype": "text/x-python",
   "name": "python",
   "nbconvert_exporter": "python",
   "pygments_lexer": "ipython3",
   "version": "3.8.8"
  }
 },
 "nbformat": 4,
 "nbformat_minor": 4
}
